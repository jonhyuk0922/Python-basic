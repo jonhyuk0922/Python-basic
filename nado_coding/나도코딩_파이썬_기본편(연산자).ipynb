{
  "nbformat": 4,
  "nbformat_minor": 0,
  "metadata": {
    "colab": {
      "name": "나도코딩_파이썬 기본편(연산자)",
      "provenance": [],
      "collapsed_sections": [],
      "authorship_tag": "ABX9TyM463JbH2Y/W8/H73axs7HU",
      "include_colab_link": true
    },
    "kernelspec": {
      "name": "python3",
      "display_name": "Python 3"
    }
  },
  "cells": [
    {
      "cell_type": "markdown",
      "metadata": {
        "id": "view-in-github",
        "colab_type": "text"
      },
      "source": [
        "<a href=\"https://colab.research.google.com/github/jonhyuk0922/Python-basic/blob/main/%EB%82%98%EB%8F%84%EC%BD%94%EB%94%A9_%ED%8C%8C%EC%9D%B4%EC%8D%AC_%EA%B8%B0%EB%B3%B8%ED%8E%B8(%EC%97%B0%EC%82%B0%EC%9E%90).ipynb\" target=\"_parent\"><img src=\"https://colab.research.google.com/assets/colab-badge.svg\" alt=\"Open In Colab\"/></a>"
      ]
    },
    {
      "cell_type": "code",
      "metadata": {
        "colab": {
          "base_uri": "https://localhost:8080/"
        },
        "id": "3K_qT9FwfexI",
        "outputId": "37595b6d-39dc-4f34-eda9-b8e293bf9fb2"
      },
      "source": [
        "station = \"사당\" \n",
        "\n",
        "print(f'{station}행 열차가 들어오고 있습니다.')"
      ],
      "execution_count": null,
      "outputs": [
        {
          "output_type": "stream",
          "text": [
            "사당행 열차가 들어오고 있습니다.\n"
          ],
          "name": "stdout"
        }
      ]
    },
    {
      "cell_type": "code",
      "metadata": {
        "id": "C3sTyd6Phpnv"
      },
      "source": [
        "#연산자\n",
        "+ , - , * , / , //(몫), %(나머지)\n",
        "비교연산자( > , <=, == , != ) 사용 시 bool 값 출력\n",
        "\n",
        "#숫자처리함수\n",
        "abs(x) : x의 절댓값\n",
        "pow(4, 2) : 4^2 = 16\n",
        "max(5, 12) : 12\n",
        "round(4.65) : 5 #반올림\n",
        "from math import * \n",
        "floor(4.88) : 4\n",
        "celi(4.53) : 5\n",
        "sqrt(x) : 제곱근 x\n"
      ],
      "execution_count": null,
      "outputs": []
    },
    {
      "cell_type": "code",
      "metadata": {
        "colab": {
          "base_uri": "https://localhost:8080/"
        },
        "id": "D6DDlcVdjBWD",
        "outputId": "2cffe1b1-16d0-44a8-9ee8-a281b5d29ce3"
      },
      "source": [
        "from math import * \n",
        "sqrt(4.334)"
      ],
      "execution_count": null,
      "outputs": [
        {
          "output_type": "execute_result",
          "data": {
            "text/plain": [
              "2.0818261214616363"
            ]
          },
          "metadata": {
            "tags": []
          },
          "execution_count": 18
        }
      ]
    },
    {
      "cell_type": "code",
      "metadata": {
        "id": "mxRvq7zjjCjr",
        "colab": {
          "base_uri": "https://localhost:8080/"
        },
        "outputId": "ccfce48c-01a0-4962-b78d-499788403539"
      },
      "source": [
        "#로또 숫자 뽑기\n",
        "from random import *\n",
        "print(random())   #0.0~1.0 미만의 임의의 값 생성\n",
        "print(random()*10) #0.0~10.0 미만의 임의의 값 생성\n",
        "print(int(random()*45)+1) #1~45 이하의 임의의 값 생성\n",
        "print(randrange(1,46)) #1~45 이하의 임의의 값 생성"
      ],
      "execution_count": null,
      "outputs": [
        {
          "output_type": "stream",
          "text": [
            "0.7748849832421093\n",
            "4.155272378194674\n",
            "18\n",
            "22\n"
          ],
          "name": "stdout"
        }
      ]
    },
    {
      "cell_type": "code",
      "metadata": {
        "colab": {
          "base_uri": "https://localhost:8080/"
        },
        "id": "NtE0_qOfliBB",
        "outputId": "a7a201d6-bad9-4a35-ec62-ee941c908d1a"
      },
      "source": [
        "for i in range(6):\n",
        "  print(randrange(1,34))"
      ],
      "execution_count": null,
      "outputs": [
        {
          "output_type": "stream",
          "text": [
            "3\n",
            "8\n",
            "29\n",
            "10\n",
            "23\n",
            "16\n"
          ],
          "name": "stdout"
        }
      ]
    },
    {
      "cell_type": "code",
      "metadata": {
        "id": "pLvsF48ynmi4",
        "colab": {
          "base_uri": "https://localhost:8080/"
        },
        "outputId": "f0a08bad-40b9-4240-b877-8eef7853794c"
      },
      "source": [
        "from random import *\n",
        "\n",
        "date = randrange(10,29)\n",
        "\n",
        "print(f\"2021년 우리가족 정기 식사 날짜는 {date}일로 정한다. 탕탕탕.\")"
      ],
      "execution_count": null,
      "outputs": [
        {
          "output_type": "stream",
          "text": [
            "2021년 우리가족 정기 식사 날짜는 14일로 정한다. 탕탕탕.\n"
          ],
          "name": "stdout"
        }
      ]
    },
    {
      "cell_type": "code",
      "metadata": {
        "colab": {
          "base_uri": "https://localhost:8080/"
        },
        "id": "SbQrPF_y-iV3",
        "outputId": "ec1a6e02-a047-4580-f260-33dad8ce4a85"
      },
      "source": [
        "#Quiz\n",
        "from random import *\n",
        "x = randrange(4,28)\n",
        "print(f\"오프라인 스터디 모임 날짜는 매월 {x} 일로 선정되었습니다.\")"
      ],
      "execution_count": null,
      "outputs": [
        {
          "output_type": "stream",
          "text": [
            "오프라인 스터디 모임 날짜는 매월 15 일로 선정되었습니다.\n"
          ],
          "name": "stdout"
        }
      ]
    },
    {
      "cell_type": "code",
      "metadata": {
        "id": "NINUPqbnArb-"
      },
      "source": [
        "#replace 함수\n",
        "python = \"python is Amazing\""
      ],
      "execution_count": null,
      "outputs": []
    },
    {
      "cell_type": "code",
      "metadata": {
        "colab": {
          "base_uri": "https://localhost:8080/",
          "height": 35
        },
        "id": "pV5PQ_1nB5TD",
        "outputId": "a25df8b5-653e-42d8-98e8-7a36a9b7862c"
      },
      "source": [
        "python.replace(\"python\",\"Java\")"
      ],
      "execution_count": null,
      "outputs": [
        {
          "output_type": "execute_result",
          "data": {
            "application/vnd.google.colaboratory.intrinsic+json": {
              "type": "string"
            },
            "text/plain": [
              "'Java is Amazing'"
            ]
          },
          "metadata": {
            "tags": []
          },
          "execution_count": 19
        }
      ]
    },
    {
      "cell_type": "code",
      "metadata": {
        "colab": {
          "base_uri": "https://localhost:8080/",
          "height": 35
        },
        "id": "QJgeIF9XB9IZ",
        "outputId": "c005fe9d-abec-4a28-9cb2-bee21d0803f4"
      },
      "source": [
        "python"
      ],
      "execution_count": null,
      "outputs": [
        {
          "output_type": "execute_result",
          "data": {
            "application/vnd.google.colaboratory.intrinsic+json": {
              "type": "string"
            },
            "text/plain": [
              "'python is Amazing'"
            ]
          },
          "metadata": {
            "tags": []
          },
          "execution_count": 20
        }
      ]
    },
    {
      "cell_type": "code",
      "metadata": {
        "colab": {
          "base_uri": "https://localhost:8080/"
        },
        "id": "WTegV2DuCAr1",
        "outputId": "61168354-2086-414d-e2d2-84e34c366aa3"
      },
      "source": [
        "#index 함수\n",
        "index = python.index(\"n\")\n",
        "print(index) #5\n",
        "index = python.index(\"n\",index+1) #두번째에 있는 n\n",
        "print(index)\n",
        "\n",
        "#find 함수\n",
        "print(python.find(\"p\")) #find는 포함되지 않은거 요구하면 -1 출력 , index는 오류\n",
        "print(python.find(\"jh\"))\n",
        "\n",
        "#count함수\n",
        "print(python.count(\"n\"))"
      ],
      "execution_count": null,
      "outputs": [
        {
          "output_type": "stream",
          "text": [
            "5\n",
            "15\n",
            "0\n",
            "-1\n",
            "2\n"
          ],
          "name": "stdout"
        }
      ]
    },
    {
      "cell_type": "code",
      "metadata": {
        "colab": {
          "base_uri": "https://localhost:8080/"
        },
        "id": "z4Q6OgYGCaBL",
        "outputId": "0df2359a-5bfe-4084-8022-9ea10c7c7bd3"
      },
      "source": [
        "#탈출문자\n",
        "#1. 줄바꿈 : \\n\n",
        "print(\"백문이 불여일견\\n백견이 불여일타\")\n",
        "#2. \"\" 출력하기 : \\\"\\\"\n",
        "print(\"저는 \\\"이조녁\\\"입니다.\")\n",
        "#3. \\\\ : 문장 내에서 \\\n",
        "#4. \\b : 백스페이스(한 글자 삭제)\n",
        "print(\"Redd\\b apple\")\n",
        "#5. \\t : 탭\n",
        "print(\"abc\\tefg\")"
      ],
      "execution_count": null,
      "outputs": [
        {
          "output_type": "stream",
          "text": [
            "백문이 불여일견\n",
            "백견이 불여일타\n",
            "저는 \"이조녁\"입니다.\n",
            "Redd\b apple\n",
            "abc\tefg\n"
          ],
          "name": "stdout"
        }
      ]
    },
    {
      "cell_type": "code",
      "metadata": {
        "colab": {
          "base_uri": "https://localhost:8080/"
        },
        "id": "0gtBy-bkEIyj",
        "outputId": "8dba8be6-9e82-472e-c157-42123120d04b"
      },
      "source": [
        "#Quiz\n",
        "url = \"http://google.com\"\n",
        "my_str = url.replace(\"http://\",\"\")\n",
        "#print(my_str)\n",
        "my_str = my_str[:my_str.index(\".\")]\n",
        "password = my_str[:3] + str(len(my_str)) + str(my_str.count(\"e\")) + \"!\"\n",
        "print(f\"{url}의 비밀번호는 {password}입니다.\")"
      ],
      "execution_count": null,
      "outputs": [
        {
          "output_type": "stream",
          "text": [
            "http://google.com의 비밀번호는 goo61!입니다.\n"
          ],
          "name": "stdout"
        }
      ]
    },
    {
      "cell_type": "code",
      "metadata": {
        "colab": {
          "base_uri": "https://localhost:8080/",
          "height": 35
        },
        "id": "NeYxsjp_LwUf",
        "outputId": "8d40c83d-dd18-444b-8d21-dbb8cc7eead2"
      },
      "source": [
        "\n",
        "password"
      ],
      "execution_count": null,
      "outputs": [
        {
          "output_type": "execute_result",
          "data": {
            "application/vnd.google.colaboratory.intrinsic+json": {
              "type": "string"
            },
            "text/plain": [
              "'nav'"
            ]
          },
          "metadata": {
            "tags": []
          },
          "execution_count": 61
        }
      ]
    },
    {
      "cell_type": "code",
      "metadata": {
        "id": "p44CalDUM_aA"
      },
      "source": [
        ""
      ],
      "execution_count": null,
      "outputs": []
    }
  ]
}
