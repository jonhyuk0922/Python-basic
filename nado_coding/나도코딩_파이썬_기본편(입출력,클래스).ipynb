{
  "nbformat": 4,
  "nbformat_minor": 0,
  "metadata": {
    "colab": {
      "name": "나도코딩_파이썬 기본편(입출력,클래스)",
      "provenance": [],
      "authorship_tag": "ABX9TyMdbCQlH19wAvSn06+Lzfk0",
      "include_colab_link": true
    },
    "kernelspec": {
      "name": "python3",
      "display_name": "Python 3"
    }
  },
  "cells": [
    {
      "cell_type": "markdown",
      "metadata": {
        "id": "view-in-github",
        "colab_type": "text"
      },
      "source": [
        "<a href=\"https://colab.research.google.com/github/jonhyuk0922/Python-basic/blob/main/%EB%82%98%EB%8F%84%EC%BD%94%EB%94%A9_%ED%8C%8C%EC%9D%B4%EC%8D%AC_%EA%B8%B0%EB%B3%B8%ED%8E%B8(%EC%9E%85%EC%B6%9C%EB%A0%A5%2C%ED%81%B4%EB%9E%98%EC%8A%A4).ipynb\" target=\"_parent\"><img src=\"https://colab.research.google.com/assets/colab-badge.svg\" alt=\"Open In Colab\"/></a>"
      ]
    },
    {
      "cell_type": "markdown",
      "metadata": {
        "id": "zwNcOHPXoJmN"
      },
      "source": [
        "#입출력"
      ]
    },
    {
      "cell_type": "markdown",
      "metadata": {
        "id": "1OGdPGp-oSW2"
      },
      "source": [
        "####1) 표준입출력"
      ]
    },
    {
      "cell_type": "code",
      "metadata": {
        "colab": {
          "base_uri": "https://localhost:8080/"
        },
        "id": "djUb1FHxoXzR",
        "outputId": "d16f510b-a646-4248-af67-8fc0bf279791"
      },
      "source": [
        "print(\"Python\",\"Java\",sep=\",\", end=\"?\") #보통 end 값은 줄바꿈인데 \"?\"를 사용하면서 줄바꿈 없이 출력함\n",
        "print(\"무엇이 더 재밌을까요?\")"
      ],
      "execution_count": null,
      "outputs": [
        {
          "output_type": "stream",
          "text": [
            "Python,Java?무엇이 더 재밌을까요?\n"
          ],
          "name": "stdout"
        }
      ]
    },
    {
      "cell_type": "code",
      "metadata": {
        "colab": {
          "base_uri": "https://localhost:8080/"
        },
        "id": "gOzYiV-NpEx4",
        "outputId": "0d83770b-9b5f-4996-95db-7b31c2a0d69b"
      },
      "source": [
        "import sys\n",
        "print(\"Python\",\"Java\",file=sys.stdout) #표준출력으로 처리\n",
        "print(\"Python\",\"Java\",file=sys.stderr) #표준에러로 처리"
      ],
      "execution_count": null,
      "outputs": [
        {
          "output_type": "stream",
          "text": [
            "Python Java\n"
          ],
          "name": "stdout"
        },
        {
          "output_type": "stream",
          "text": [
            "Python Java\n"
          ],
          "name": "stderr"
        }
      ]
    },
    {
      "cell_type": "code",
      "metadata": {
        "colab": {
          "base_uri": "https://localhost:8080/"
        },
        "id": "JbPScKLupfot",
        "outputId": "76068e2d-8935-44ae-c719-5f161235eac0"
      },
      "source": [
        "#시험 성적\n",
        "scores = {\"수학\":0,\"영어\":50,\"코딩\":100}\n",
        "for subject, score in scores.items():\n",
        "  print(subject.ljust(8), str(score).rjust(4) ,sep=\":\")"
      ],
      "execution_count": null,
      "outputs": [
        {
          "output_type": "stream",
          "text": [
            "수학      :   0\n",
            "영어      :  50\n",
            "코딩      : 100\n"
          ],
          "name": "stdout"
        }
      ]
    },
    {
      "cell_type": "code",
      "metadata": {
        "id": "BGihOWyaqJfH"
      },
      "source": [
        "#은행 대기순번표\n",
        "#001, 002, 003, ...\n",
        "for num in range(1,21):\n",
        "  print(\"대기번호 : \" + str(num).zfill(3))"
      ],
      "execution_count": null,
      "outputs": []
    },
    {
      "cell_type": "code",
      "metadata": {
        "colab": {
          "base_uri": "https://localhost:8080/"
        },
        "id": "XZ4zlAx9q_qi",
        "outputId": "bb4e09db-84a3-407a-c4d6-cfc7c70cd349"
      },
      "source": [
        "#표준입력\n",
        "answer = input(\"아무 값이나 입력하세요 : \") #사용자 입력을 통한 값은 항상 문자열로 저장된다.\n",
        "print(type(answer))\n",
        "print(\"입력하신 값은 \" + answer + \"입니다\")"
      ],
      "execution_count": null,
      "outputs": [
        {
          "output_type": "stream",
          "text": [
            "아무 값이나 입력하세요 : 23\n",
            "<class 'str'>\n",
            "입력하신 값은 23입니다\n"
          ],
          "name": "stdout"
        }
      ]
    },
    {
      "cell_type": "markdown",
      "metadata": {
        "id": "SajIHgiarWdV"
      },
      "source": [
        "#### 2) 다양한 출력포맷"
      ]
    },
    {
      "cell_type": "code",
      "metadata": {
        "colab": {
          "base_uri": "https://localhost:8080/"
        },
        "id": "OvnmNXAtr1Vh",
        "outputId": "d37f98f2-93bb-479c-db7c-e1d51f2925c1"
      },
      "source": [
        "# 빈 자리는 빈공간으로 두고, 오른쪽 정렬을 하되, 총 10자리 공간을 확보\n",
        "print(f\"{500: >10}\")"
      ],
      "execution_count": null,
      "outputs": [
        {
          "output_type": "stream",
          "text": [
            "       500\n"
          ],
          "name": "stdout"
        }
      ]
    },
    {
      "cell_type": "code",
      "metadata": {
        "colab": {
          "base_uri": "https://localhost:8080/"
        },
        "id": "yE4HRShPsKGv",
        "outputId": "632038eb-4fa0-4acd-fb8a-2412b86ce492"
      },
      "source": [
        "#양수일 떈 +로 표시, 음수일 떈 -로 표시\n",
        "print(f\"{500: >+10}\")\n",
        "print(f\"{-500: >-10}\")"
      ],
      "execution_count": null,
      "outputs": [
        {
          "output_type": "stream",
          "text": [
            "      +500\n",
            "      -500\n"
          ],
          "name": "stdout"
        }
      ]
    },
    {
      "cell_type": "code",
      "metadata": {
        "colab": {
          "base_uri": "https://localhost:8080/"
        },
        "id": "N-Dz9LjlsR6s",
        "outputId": "020c4593-9c8c-42c4-e750-544141ae97ec"
      },
      "source": [
        "#왼쪽 정렬하고, 빈칸으로 _로 채움\n",
        "print(f\"{500:_<10}\")"
      ],
      "execution_count": null,
      "outputs": [
        {
          "output_type": "stream",
          "text": [
            "500_______\n"
          ],
          "name": "stdout"
        }
      ]
    },
    {
      "cell_type": "code",
      "metadata": {
        "colab": {
          "base_uri": "https://localhost:8080/"
        },
        "id": "ZdkSnB9Nsna6",
        "outputId": "8be865ec-8b33-4b55-c4de-f674f2f3c703"
      },
      "source": [
        "#3자리 마다 콤마를 찍어주기\n",
        "print(f\"{1000000:,}\")\n",
        "#3자리 마다 콤마를 찍어주기, +,-부호도 붙이기\n",
        "print(f\"{10000000:+,}\")\n",
        "print(f\"{-10000000:-,}\")\n",
        "#3자리 마다 콤마를 찍어주기, +,-부호도 붙이기, 자릿수 확보하기\n",
        "#돈이 많으면 행복하니까 빈자리는 ^로 채워주기\n",
        "print(f\"{1000000000000:^<+30,}\")"
      ],
      "execution_count": null,
      "outputs": [
        {
          "output_type": "stream",
          "text": [
            "1,000,000\n",
            "+10,000,000\n",
            "-10,000,000\n",
            "+1,000,000,000,000^^^^^^^^^^^^\n"
          ],
          "name": "stdout"
        }
      ]
    },
    {
      "cell_type": "code",
      "metadata": {
        "colab": {
          "base_uri": "https://localhost:8080/"
        },
        "id": "-lxAbzD3s0ba",
        "outputId": "26a3ebde-c855-44ae-b1b5-33165d10ecbf"
      },
      "source": [
        "# 소수점 출력\n",
        "print(\"{0:f}\".format(5/3))\n",
        "# 소수점을 특정 자리수 까지만 표시\n",
        "print(\"{0:.2f}\".format(5/3))"
      ],
      "execution_count": null,
      "outputs": [
        {
          "output_type": "stream",
          "text": [
            "1.666667\n",
            "1.67\n"
          ],
          "name": "stdout"
        }
      ]
    },
    {
      "cell_type": "markdown",
      "metadata": {
        "id": "7zcuD7L6ta0n"
      },
      "source": [
        "#### 3) 파일입출력"
      ]
    },
    {
      "cell_type": "code",
      "metadata": {
        "id": "r98JuZQ0t7NE"
      },
      "source": [
        "score_file = open(\"score.txt\", \"w\",encoding=\"utf8\")\n",
        "print(\"수학 : 0\",file=score_file)\n",
        "print(\"영어 : 50\",file=score_file)\n",
        "score_file.close()"
      ],
      "execution_count": null,
      "outputs": []
    },
    {
      "cell_type": "code",
      "metadata": {
        "id": "lL6vJu8nuYtO"
      },
      "source": [
        "score_file = open(\"score.txt\",\"a\",encoding=\"utf8\")\n",
        "score_file.write(\"과학 : 80\")      #file.write은 따로 줄바꿈 기능이 없다.\n",
        "score_file.write(\"\\n코딩 : 100\")\n",
        "score_file.close()"
      ],
      "execution_count": null,
      "outputs": []
    },
    {
      "cell_type": "code",
      "metadata": {
        "colab": {
          "base_uri": "https://localhost:8080/"
        },
        "id": "-P0FWY5Ku8PW",
        "outputId": "3cbe534b-663c-4037-930a-bd3c085a83e3"
      },
      "source": [
        "score_file = open(\"score.txt\",\"r\",encoding=\"utf8\")\n",
        "print(score_file.read())\n",
        "score_file.close()"
      ],
      "execution_count": null,
      "outputs": [
        {
          "output_type": "stream",
          "text": [
            "수학 : 0\n",
            "영어 : 50\n",
            "과학 : 80\n",
            "코딩 : 100\n"
          ],
          "name": "stdout"
        }
      ]
    },
    {
      "cell_type": "code",
      "metadata": {
        "colab": {
          "base_uri": "https://localhost:8080/"
        },
        "id": "BJCA4hsDvZFM",
        "outputId": "410646ee-4140-40a8-e81b-b1afe6400cef"
      },
      "source": [
        "score_file = open(\"score.txt\",\"r\",encoding=\"utf8\")\n",
        "print(score_file.readline()) #줄별로 읽기, 한 줄 읽고 커서는 다음 줄로 이동\n",
        "print(score_file.readline())\n",
        "print(score_file.readline())\n",
        "print(score_file.readline())\n",
        "score_file.close()"
      ],
      "execution_count": null,
      "outputs": [
        {
          "output_type": "stream",
          "text": [
            "수학 : 0\n",
            "\n",
            "영어 : 50\n",
            "\n",
            "과학 : 80\n",
            "\n",
            "코딩 : 100\n"
          ],
          "name": "stdout"
        }
      ]
    },
    {
      "cell_type": "code",
      "metadata": {
        "colab": {
          "base_uri": "https://localhost:8080/"
        },
        "id": "mZV3koyCvu4L",
        "outputId": "6febef41-8ec2-4af4-91a5-f246168c0736"
      },
      "source": [
        "score_file = open(\"score.txt\",\"r\",encoding=\"utf8\")\n",
        "while True:\n",
        "  line = score_file.readline()\n",
        "  if not line:\n",
        "    break\n",
        "  print(line,#end=\"\"\n",
        "  )\n",
        "score_file.close()"
      ],
      "execution_count": null,
      "outputs": [
        {
          "output_type": "stream",
          "text": [
            "수학 : 0\n",
            "\n",
            "영어 : 50\n",
            "\n",
            "과학 : 80\n",
            "\n",
            "코딩 : 100\n"
          ],
          "name": "stdout"
        }
      ]
    },
    {
      "cell_type": "code",
      "metadata": {
        "colab": {
          "base_uri": "https://localhost:8080/"
        },
        "id": "OBX7W-NMwXA-",
        "outputId": "ade7b68f-b209-4a41-999a-af4399294d0c"
      },
      "source": [
        "score_file = open(\"score.txt\",\"r\",encoding=\"utf8\")\n",
        "lines =score_file.readlines() #list 형태로 저장\n",
        "for line in lines:\n",
        "  print(line, end=\"\")\n",
        "score_file.close()\n",
        "\n",
        "#type(lines)"
      ],
      "execution_count": null,
      "outputs": [
        {
          "output_type": "stream",
          "text": [
            "수학 : 0\n",
            "영어 : 50\n",
            "과학 : 80\n",
            "코딩 : 100"
          ],
          "name": "stdout"
        },
        {
          "output_type": "execute_result",
          "data": {
            "text/plain": [
              "list"
            ]
          },
          "metadata": {
            "tags": []
          },
          "execution_count": 28
        }
      ]
    },
    {
      "cell_type": "markdown",
      "metadata": {
        "id": "xf3l11m3wxp1"
      },
      "source": [
        "#### 4) pickle"
      ]
    },
    {
      "cell_type": "code",
      "metadata": {
        "colab": {
          "base_uri": "https://localhost:8080/"
        },
        "id": "kEEORWFtxmt7",
        "outputId": "c59a6fb7-f425-4849-af52-96b7f6c2ca75"
      },
      "source": [
        "import pickle\n",
        "profile_file = open(\"profile.pickle\",\"wb\") #:w : write , b : binary (필수!)\n",
        "profile = {\"이름\":\"박명수\", \"나이\":30, \"취미\":[\"축구\",\"골프\",\"코딩\"]}\n",
        "print(profile)\n",
        "pickle.dump(profile,profile_file) #profile 에 있는 정보를 file에 저장\n",
        "profile_file.close()"
      ],
      "execution_count": null,
      "outputs": [
        {
          "output_type": "stream",
          "text": [
            "{'이름': '박명수', '나이': 30, '취미': ['축구', '골프', '코딩']}\n"
          ],
          "name": "stdout"
        }
      ]
    },
    {
      "cell_type": "code",
      "metadata": {
        "colab": {
          "base_uri": "https://localhost:8080/"
        },
        "id": "BvFsUFbAyci4",
        "outputId": "d5713676-2f2b-4953-8628-e3ec347f8c89"
      },
      "source": [
        "import pickle\n",
        "profile_file = open(\"profile.pickle\",\"rb\")\n",
        "profile = pickle.load(profile_file) #file에 있는 정보를 profile 에 불러오기\n",
        "print(profile)\n",
        "profile_file.close()"
      ],
      "execution_count": null,
      "outputs": [
        {
          "output_type": "stream",
          "text": [
            "{'이름': '박명수', '나이': 30, '취미': ['축구', '골프', '코딩']}\n"
          ],
          "name": "stdout"
        }
      ]
    },
    {
      "cell_type": "markdown",
      "metadata": {
        "id": "U5X-3KUHy15r"
      },
      "source": [
        "#### 5) with"
      ]
    },
    {
      "cell_type": "code",
      "metadata": {
        "colab": {
          "base_uri": "https://localhost:8080/"
        },
        "id": "bN82PrEvy_lm",
        "outputId": "ca78ed5e-682a-419c-aba0-5d9921c0c8bb"
      },
      "source": [
        "import pickle\n",
        "with open(\"profile.pickle\",\"rb\") as profile_file:\n",
        "  print(pickle.load(profile_file))"
      ],
      "execution_count": null,
      "outputs": [
        {
          "output_type": "stream",
          "text": [
            "{'이름': '박명수', '나이': 30, '취미': ['축구', '골프', '코딩']}\n"
          ],
          "name": "stdout"
        }
      ]
    },
    {
      "cell_type": "code",
      "metadata": {
        "id": "NvFvQP8KzSrj"
      },
      "source": [
        "with open(\"study.txt\", \"w\", encoding=\"utf8\") as study_file:\n",
        "  study_file.write(\"파이썬을 열심히 공부하고 있어요\")"
      ],
      "execution_count": null,
      "outputs": []
    },
    {
      "cell_type": "code",
      "metadata": {
        "colab": {
          "base_uri": "https://localhost:8080/"
        },
        "id": "hSOdzmeKzqwK",
        "outputId": "b47a3bfe-60b1-432a-955d-ee27575a4dff"
      },
      "source": [
        "with open(\"study.txt\", \"r\", encoding=\"utf8\") as study_file:\n",
        "  print(study_file.read())"
      ],
      "execution_count": null,
      "outputs": [
        {
          "output_type": "stream",
          "text": [
            "파이썬을 열심히 공부하고 있어요\n"
          ],
          "name": "stdout"
        }
      ]
    },
    {
      "cell_type": "markdown",
      "metadata": {
        "id": "hechNw2Az-La"
      },
      "source": [
        "#### 6) Quiz : 업무 자동화 _ 보고서 만들기"
      ]
    },
    {
      "cell_type": "code",
      "metadata": {
        "id": "yTfszan50ZQu"
      },
      "source": [
        "for n in range(1,51):\n",
        "  with open(str(n) + \"주차.txt\",\"w\",encoding=\"utf8\") as nweek_file:\n",
        "    nweek_file.write(f\"- {n} 주차 주간보고 - \")\n",
        "    nweek_file.write(\"\\n부서 : \")\n",
        "    nweek_file.write(\"\\n이름 : \")\n",
        "    nweek_file.write(\"\\n업무 요약 :  \")"
      ],
      "execution_count": null,
      "outputs": []
    },
    {
      "cell_type": "markdown",
      "metadata": {
        "id": "qRKe-0G1DY4G"
      },
      "source": [
        "#클래스"
      ]
    },
    {
      "cell_type": "markdown",
      "metadata": {
        "id": "v9fxWJSvDbrP"
      },
      "source": [
        "####1.클래스"
      ]
    },
    {
      "cell_type": "code",
      "metadata": {
        "id": "g_8jQA9lDZvC"
      },
      "source": [
        "#마린 : 공격유닛, 군인. 총을 쏠 수 있음\n",
        "name = \"마린\" #유닛의 이름\n",
        "hp = 40 #유닛의 체력\n",
        "damage = 5 #유닛의 공격력"
      ],
      "execution_count": null,
      "outputs": []
    },
    {
      "cell_type": "code",
      "metadata": {
        "colab": {
          "base_uri": "https://localhost:8080/"
        },
        "id": "k_uRqPrPDw13",
        "outputId": "fa5cb6e2-31f6-4681-9e21-c48911e22b47"
      },
      "source": [
        "print(f\"{name}유닛이 생성되었습니다.\")\n",
        "print(f\"체력 {hp}, 공격력 {damage}\\n\")"
      ],
      "execution_count": null,
      "outputs": [
        {
          "output_type": "stream",
          "text": [
            "마린유닛이 생성되었습니다.\n",
            "체력 40, 공격력 5\n",
            "\n"
          ],
          "name": "stdout"
        }
      ]
    },
    {
      "cell_type": "code",
      "metadata": {
        "id": "EgrrYD9DEIs1"
      },
      "source": [
        "#탱크 : 공격 유닛, 탱크. 포를 쏠 수 있는데, 일반 모드 / 시즈 모드.\n",
        "tank_name = \"탱크\"\n",
        "tank_hp = 150\n",
        "tank_damage = 35\n",
        "\n",
        "\"\"\"tank2_name = \"탱크\"\n",
        "tank2_hp = 150\n",
        "tank2_damage = 35\"\"\""
      ],
      "execution_count": null,
      "outputs": []
    },
    {
      "cell_type": "code",
      "metadata": {
        "colab": {
          "base_uri": "https://localhost:8080/"
        },
        "id": "JsfpJmrNEXie",
        "outputId": "0071a7f2-ef62-4091-f7c9-f5d681ab532a"
      },
      "source": [
        "print(f\"{tank_name}유닛이 생성되었습니다.\")\n",
        "print(f\"체력 {tank_hp}, 공격력 {tank_damage}\\n\")"
      ],
      "execution_count": null,
      "outputs": [
        {
          "output_type": "stream",
          "text": [
            "탱크유닛이 생성되었습니다.\n",
            "체력 150, 공격력 35\n",
            "\n"
          ],
          "name": "stdout"
        }
      ]
    },
    {
      "cell_type": "code",
      "metadata": {
        "id": "iJypmmJDEb5e"
      },
      "source": [
        "def attack(name, location, damage):\n",
        "  print(f\"{name} : {location} 방향으로 적군을 공격 합니다. [공격력 {damage}]\")"
      ],
      "execution_count": null,
      "outputs": []
    },
    {
      "cell_type": "code",
      "metadata": {
        "colab": {
          "base_uri": "https://localhost:8080/"
        },
        "id": "24hMbhHIEuCh",
        "outputId": "10c440a1-c9b4-4dc4-fb75-bb7a011596e9"
      },
      "source": [
        "attack(name, \"1시\", damage)\n",
        "attack(tank_name, \"1시\", tank_damage)\n",
        "attack(tank2_name, \"1시\", tank2_damage)"
      ],
      "execution_count": null,
      "outputs": [
        {
          "output_type": "stream",
          "text": [
            "마린 : 1시 방향으로 적군을 공격 합니다. [공격력 5]\n",
            "탱크 : 1시 방향으로 적군을 공격 합니다. [공격력 35]\n",
            "탱크 : 1시 방향으로 적군을 공격 합니다. [공격력 35]\n"
          ],
          "name": "stdout"
        }
      ]
    },
    {
      "cell_type": "markdown",
      "metadata": {
        "id": "BoXAyMrdF19q"
      },
      "source": [
        "####2.__init__\n",
        "\n",
        "파이썬에서 쓰이는 생성자 "
      ]
    },
    {
      "cell_type": "code",
      "metadata": {
        "id": "q_hViTYAE3SA"
      },
      "source": [
        "class Unit:\n",
        "  def __init__(self,name, hp, damage):\n",
        "    self.name = name\n",
        "    self.hp = hp\n",
        "    self.damage = damage\n",
        "    print(f\"{self.name} 유닛이 생성 되었습니다.\")\n",
        "    print(f\"체력 : {self.hp}, 공격력 : {self.damage}\")"
      ],
      "execution_count": null,
      "outputs": []
    },
    {
      "cell_type": "code",
      "metadata": {
        "colab": {
          "base_uri": "https://localhost:8080/"
        },
        "id": "hSeBD52SFm9j",
        "outputId": "45bf0e72-7b6c-4e49-8dca-918028a4dd3e"
      },
      "source": [
        "marine1 = Unit(\"마린\",40,5)\n",
        "marine2 = Unit(\"마린\",40,5)\n",
        "tank = unit(\"탱크\",150,35)"
      ],
      "execution_count": null,
      "outputs": [
        {
          "output_type": "stream",
          "text": [
            "마린 유닛이 생성 되었습니다.\n",
            "체력 : 40, 공격력 : 5\n",
            "마린 유닛이 생성 되었습니다.\n",
            "체력 : 40, 공격력 : 5\n",
            "탱크 유닛이 생성 되었습니다.\n",
            "체력 : 150, 공격력 : 35\n"
          ],
          "name": "stdout"
        }
      ]
    },
    {
      "cell_type": "markdown",
      "metadata": {
        "id": "9JoWcEigF1q_"
      },
      "source": [
        "####3.멤버변수\n",
        "\n",
        "클래스 내에서 정의된 변수 eg) self.name , self.hp , self.damage ..."
      ]
    },
    {
      "cell_type": "code",
      "metadata": {
        "colab": {
          "base_uri": "https://localhost:8080/"
        },
        "id": "VkRBjVfuFxZF",
        "outputId": "3d7af0b2-87cd-480c-9fad-8b38104f1156"
      },
      "source": [
        "#레이스 : 공즁 유닛, 비행기. 클로킹\n",
        "wraith1 = Unit(\"레이스\",80,5)\n",
        "print(\"유닛 이름 : {0}, 공격력 : {1}\".format(wraith1.name, wraith1.damage))"
      ],
      "execution_count": null,
      "outputs": [
        {
          "output_type": "stream",
          "text": [
            "레이스 유닛이 생성 되었습니다.\n",
            "체력 : 80, 공격력 : 5\n",
            "유닛 이름 : 레이스, 공격력 : 5\n"
          ],
          "name": "stdout"
        }
      ]
    },
    {
      "cell_type": "code",
      "metadata": {
        "colab": {
          "base_uri": "https://localhost:8080/"
        },
        "id": "L6JavDtTF1KO",
        "outputId": "8de40585-a475-4c59-9828-3fbd2ef137a8"
      },
      "source": [
        "#마인드 컨트롤 : 상대방 유닛을 내 것으로 만드는 것 (빼앗음)\n",
        "wraith2 = Unit(\"레이스\",80,5)\n",
        "wraith2.clocking = True  #<- 클래스 외부에서 객체에 추가로 변수를 할당함 \n",
        "\n",
        "if wraith2.clocking == True:\n",
        "  print(\"{0} 는 현재 클로킹 상태입니다.\".format(wraith2.name))"
      ],
      "execution_count": null,
      "outputs": [
        {
          "output_type": "stream",
          "text": [
            "레이스 유닛이 생성 되었습니다.\n",
            "체력 : 80, 공격력 : 5\n",
            "레이스 는 현재 클로킹 상태입니다.\n"
          ],
          "name": "stdout"
        }
      ]
    },
    {
      "cell_type": "markdown",
      "metadata": {
        "id": "ap51yn8tHX48"
      },
      "source": [
        "####4. 메소드"
      ]
    },
    {
      "cell_type": "code",
      "metadata": {
        "id": "a7asaP48Hwza"
      },
      "source": [
        "class AttackUnit:\n",
        "    def __init__(self,name, hp, damage):\n",
        "      self.name = name\n",
        "      self.hp = hp\n",
        "      self.damage = damage\n",
        "\n",
        "    def attack(self,location):\n",
        "      print(f\"{self.name} : {location} 방향으로 적군을 공격 합니다. [공격력 {self.damage}]\")\n",
        "\n",
        "    def damaged(self,damage):\n",
        "      print(f\"{self.name} : {damage} 데미지를 입었습니다.\")\n",
        "      self.hp -=damage\n",
        "      print(f\"{self.name} : 현재 체력은 {self.hp} 입니다.\")\n",
        "      if self.hp <= 0:\n",
        "        print(f\"{self.name} : 파괴되었습니다.\")"
      ],
      "execution_count": null,
      "outputs": []
    },
    {
      "cell_type": "code",
      "metadata": {
        "colab": {
          "base_uri": "https://localhost:8080/"
        },
        "id": "ZpvtczMPIS66",
        "outputId": "e391765d-7fa6-4afe-f705-434636fcc937"
      },
      "source": [
        "#파이어뱃 : 공격 유닛, 화염방사기. \n",
        "firebat1 = AttackUnit(\"파이어뱃\",50,16)\n",
        "firebat1.attack(\"5시\")\n",
        "\n",
        "#공격 2번 받는다고 가정\n",
        "firebat1.damaged(25)\n",
        "firebat1.damaged(25)"
      ],
      "execution_count": null,
      "outputs": [
        {
          "output_type": "stream",
          "text": [
            "파이어뱃 : 5시 방향으로 적군을 공격 합니다. [공격력 16]\n",
            "파이어뱃 : 25 데미지를 입었습니다.\n",
            "파이어뱃 : 현재 체력은 25 입니다.\n",
            "파이어뱃 : 25 데미지를 입었습니다.\n",
            "파이어뱃 : 현재 체력은 0 입니다.\n",
            "파이어뱃 : 파괴되었습니다.\n"
          ],
          "name": "stdout"
        }
      ]
    },
    {
      "cell_type": "markdown",
      "metadata": {
        "id": "Qd21qZO4Jdcy"
      },
      "source": [
        "####5. 상속"
      ]
    },
    {
      "cell_type": "code",
      "metadata": {
        "id": "pCzoFdVw8OAd"
      },
      "source": [
        "#일반 유닛\n",
        "class Unit:\n",
        "  def __init__(self,name, hp):\n",
        "    self.name = name\n",
        "    self.hp = hp\n",
        "\n",
        "#공격 유닛\n",
        "class AttackUnit(Unit):\n",
        "    def __init__(self,name, hp, damage):\n",
        "      Unit.__init__(self,name,hp)\n",
        "      self.damage = damage\n",
        "\n",
        "    def attack(self,location):\n",
        "      print(f\"{self.name} : {location} 방향으로 적군을 공격 합니다. [공격력 {self.damage}]\")\n",
        "\n",
        "    def damaged(self,damage):\n",
        "      print(f\"{self.name} : {damage} 데미지를 입었습니다.\")\n",
        "      self.hp -=damage\n",
        "      print(f\"{self.name} : 현재 체력은 {self.hp} 입니다.\")\n",
        "      if self.hp <= 0:\n",
        "        print(f\"{self.name} : 파괴되었습니다.\")"
      ],
      "execution_count": null,
      "outputs": []
    },
    {
      "cell_type": "markdown",
      "metadata": {
        "id": "B7Cs885WAACi"
      },
      "source": [
        "####6. 다중 상속"
      ]
    },
    {
      "cell_type": "code",
      "metadata": {
        "id": "SA824SNC9d74"
      },
      "source": [
        "#날 수 있는 기능을 가진 클래스\n",
        "class Flyable: \n",
        "  def __init__(self,flying_speed):\n",
        "    self.flying_speed = flying_speed\n",
        "\n",
        "  def fly(self, name, location):\n",
        "    print(f\"{name} : {location} 방향으로 날아갑니다. [속도 {self.flying_speed}]\")\n",
        "\n",
        "#공중 공격 유닛 클래스\n",
        "class FlyableAttackUnit(AttackUnit,Flyable):\n",
        "  def __init__(self,name,hp,damage,flying_speed):\n",
        "    AttackUnit.__init__(self,name,hp,damage) \n",
        "    Flyable.__init__(self,flying_speed)"
      ],
      "execution_count": null,
      "outputs": []
    },
    {
      "cell_type": "code",
      "metadata": {
        "colab": {
          "base_uri": "https://localhost:8080/"
        },
        "id": "n4nAuo8L-Ltg",
        "outputId": "0beca61e-d385-401b-d022-f5b3a7544ac5"
      },
      "source": [
        "#발키리 : 공중 공격 유닛, 한번에 14발 미사일 발사.\n",
        "valkyrie = FlyableAttackUnit(\"발키리\",200,6,5)\n",
        "valkyrie.fly(valkyrie.name,\"3시\")"
      ],
      "execution_count": null,
      "outputs": [
        {
          "output_type": "stream",
          "text": [
            "발키리 : 3시 방향으로 날아갑니다. [속도 5]\n"
          ],
          "name": "stdout"
        }
      ]
    },
    {
      "cell_type": "markdown",
      "metadata": {
        "id": "3K-Gsvxk-_Yy"
      },
      "source": [
        "####7. 메소드 오버라이딩"
      ]
    },
    {
      "cell_type": "code",
      "metadata": {
        "colab": {
          "base_uri": "https://localhost:8080/"
        },
        "id": "cPFRznkMAKNn",
        "outputId": "aed45d68-ee3b-4de2-f196-0048d6f7e251"
      },
      "source": [
        "#일반 유닛\n",
        "class Unit:\n",
        "  def __init__(self,name, hp,speed):\n",
        "    self.name = name\n",
        "    self.hp = hp\n",
        "    self.speed = speed\n",
        "\n",
        "  def move(self,location):\n",
        "    print(\"[지상 유닛 이동]\")\n",
        "    print(f\"{self.name} : {location} 방향으로 이동합니다. [속도 {self.speed}]\")\n",
        "\n",
        "#공격 유닛\n",
        "class AttackUnit(Unit):\n",
        "    def __init__(self,name, hp, damage,speed):\n",
        "      Unit.__init__(self,name,hp,speed)\n",
        "      self.damage = damage\n",
        "\n",
        "    def attack(self,location):\n",
        "      print(f\"{self.name} : {location} 방향으로 적군을 공격 합니다. [공격력 {self.damage}]\")\n",
        "\n",
        "    def damaged(self,damage):\n",
        "      print(f\"{self.name} : {damage} 데미지를 입었습니다.\")\n",
        "      self.hp -=damage\n",
        "      print(f\"{self.name} : 현재 체력은 {self.hp} 입니다.\")\n",
        "      if self.hp <= 0:\n",
        "        print(f\"{self.name} : 파괴되었습니다.\")\n",
        "\n",
        "#날 수 있는 기능을 가진 클래스\n",
        "class Flyable: \n",
        "  def __init__(self,flying_speed):\n",
        "    self.flying_speed = flying_speed\n",
        "\n",
        "  def fly(self, name, location):\n",
        "    print(f\"{name} : {location} 방향으로 날아갑니다. [속도 {self.flying_speed}]\")\n",
        "\n",
        "#공중 공격 유닛 클래스\n",
        "class FlyableAttackUnit(AttackUnit,Flyable):\n",
        "  def __init__(self,name,hp,damage,flying_speed):\n",
        "    AttackUnit.__init__(self,name,hp,damage,0) #지상 속도 : 0 \n",
        "    Flyable.__init__(self,flying_speed)\n",
        "\n",
        "  def move(self,location):\n",
        "    print(\"[공중 유닛 이동]\")\n",
        "    self.fly(self.name, location)\n",
        "\n",
        "#벌쳐 : 지상 유닛, 기동성이 좋음\n",
        "vulture = AttackUnit(\"벌쳐\",80,20,10)\n",
        "\n",
        "#배틀크루저 : 공중 유닛, 체력도 굉장히 좋음, 공격력도 좋음.\n",
        "battlecruiser = FlyableAttackUnit(\"배틀크루저\",500,25,3)\n",
        "\n",
        "vulture.move(\"11시\")\n",
        "#battlecruiser.fly(battlecruiser.name,\"9시\")\n",
        "battlecruiser.move(\"9시\")"
      ],
      "execution_count": null,
      "outputs": [
        {
          "output_type": "stream",
          "text": [
            "[지상 유닛 이동]\n",
            "벌쳐 : 11시 방향으로 이동합니다. [속도 10]\n",
            "[공중 유닛 이동]\n",
            "배틀크루저 : 9시 방향으로 날아갑니다. [속도 3]\n"
          ],
          "name": "stdout"
        }
      ]
    },
    {
      "cell_type": "markdown",
      "metadata": {
        "id": "_nKWO-qwBYv4"
      },
      "source": [
        "####8. pass\n",
        "\n",
        "완성된 듯 보이나, 그냥 넘어간 것"
      ]
    },
    {
      "cell_type": "code",
      "metadata": {
        "id": "dZk9eui1C7Uy"
      },
      "source": [
        "# 건물\n",
        "class BuildingUnit(Unit):\n",
        "  def __init__(self,name, hp, location):\n",
        "      pass\n",
        "\n",
        "#서플라이 디폿 : 건물, 1개 건물 = 8유닛 인구수.\n",
        "supply_depot = BuildingUnit(\"서플라이 디폿\", 500 , \"7시\")"
      ],
      "execution_count": null,
      "outputs": []
    },
    {
      "cell_type": "code",
      "metadata": {
        "colab": {
          "base_uri": "https://localhost:8080/"
        },
        "id": "Q1TQSdVZDSUt",
        "outputId": "96c15a40-ad2f-4aba-fb80-431bdf41994e"
      },
      "source": [
        "def game_start():\n",
        "  print(\"[알림] 새로운 게임을 시작합니다.\")\n",
        "\n",
        "def game_over():\n",
        "  pass\n",
        "\n",
        "game_start()\n",
        "game_over()"
      ],
      "execution_count": null,
      "outputs": [
        {
          "output_type": "stream",
          "text": [
            "[알림] 새로운 게임을 시작합니다.\n"
          ],
          "name": "stdout"
        }
      ]
    },
    {
      "cell_type": "markdown",
      "metadata": {
        "id": "sbHaeJF7Djyt"
      },
      "source": [
        "####9. super"
      ]
    },
    {
      "cell_type": "code",
      "metadata": {
        "id": "ePbTYfZWDvrA"
      },
      "source": [
        "# 건물\n",
        "class BuildingUnit(Unit):\n",
        "  def __init__(self,name, hp, location):\n",
        "      #Unit.__init__(self,name,hp,0)\n",
        "      super().__init__(name,hp,0)\n",
        "      self.location=location"
      ],
      "execution_count": null,
      "outputs": []
    },
    {
      "cell_type": "code",
      "metadata": {
        "colab": {
          "base_uri": "https://localhost:8080/"
        },
        "id": "H9k2UqTnEIL6",
        "outputId": "636d0e58-be84-4527-c835-f4a1ddf8226a"
      },
      "source": [
        "class Unit:\n",
        "  def __init__(self):\n",
        "    print(\"Unit 생성자\")\n",
        "\n",
        "class Flyable:\n",
        "  def __init__(self):\n",
        "    print(\"Flyalbe 생성자\")\n",
        "\n",
        "class FlyableUnit(Unit,Flyable): #두개이상 부모 상송받을 때, super를 쓰면 앞에 클래스만 상속받는다.\n",
        "  def __init__(self):\n",
        "    #super().__init__()\n",
        "    Unit.__init__(self)\n",
        "    Flyable.__init__(self)\n",
        "\n",
        "#드랍쉽\n",
        "dropship = FlyableUnit()"
      ],
      "execution_count": null,
      "outputs": [
        {
          "output_type": "stream",
          "text": [
            "Unit 생성자\n",
            "Flyalbe 생성자\n"
          ],
          "name": "stdout"
        }
      ]
    },
    {
      "cell_type": "markdown",
      "metadata": {
        "id": "AwH2vwgeEv3Q"
      },
      "source": [
        "####10. 스타크래프트 프로젝트 전반전"
      ]
    },
    {
      "cell_type": "code",
      "metadata": {
        "id": "Ys60u3RBFHgJ"
      },
      "source": [
        "from random import *\n",
        "\n",
        "#일반 유닛\n",
        "class Unit:\n",
        "  def __init__(self,name, speed,hp):\n",
        "    self.name = name\n",
        "    self.hp = hp\n",
        "    self.speed = speed\n",
        "    print(f\"{name} 유닛이 생성되었습니다.\")\n",
        "\n",
        "  def move(self,location):\n",
        "    print(f\"{self.name} : {location} 방향으로 이동합니다. [속도 {self.speed}]\")\n",
        "\n",
        "  def damaged(self,damage):\n",
        "    print(f\"{self.name} : {damage} 데미지를 입었습니다.\")\n",
        "    self.hp -=damage\n",
        "    print(f\"{self.name} : 현재 체력은 {self.hp} 입니다.\")\n",
        "    if self.hp <= 0:\n",
        "      print(f\"{self.name} : 파괴되었습니다.\")\n",
        "\n",
        "\n",
        "#공격 유닛\n",
        "class AttackUnit(Unit):\n",
        "    def __init__(self,name, hp, speed,damage):\n",
        "      Unit.__init__(self,name,speed,hp)\n",
        "      self.damage = damage\n",
        "\n",
        "    def attack(self,location):\n",
        "      print(f\"{self.name} : {location} 방향으로 적군을 공격 합니다. [공격력 {self.damage}]\")\n",
        "\n",
        "\n",
        "#마린 \n",
        "class Marine(AttackUnit):\n",
        "  def __init__(self):\n",
        "    AttackUnit.__init__(self,\"마린\",40,1,5)\n",
        "\n",
        "  #스팀팩 : 일정 시간 동안 이동 및 공격 속도를 증가, 체력 10 감소\n",
        "  def stimpack(self):\n",
        "    if self.hp > 10:\n",
        "      self.hp -=10\n",
        "      print(f\"{self.name} : 스팀팩을 사용합니다. (HP 10 감소)\")\n",
        "    else:\n",
        "      print(f\"{self.name} : 체력이 부족하여 스팀팩을 사용하지 않습니다.\")\n",
        "\n",
        "#탱크 \n",
        "class Tank(AttackUnit):\n",
        "  #시즈모드 : 탱크를 지상에 고정시켜 더 높은 파워로 공격 가능. 이동 불가.\n",
        "  seize_developed = False #시즈모드 개발여부\n",
        "\n",
        "  def __init__(self):\n",
        "    AttackUnit.__init__(self,\"탱크\",150,1,35)\n",
        "    self.seize_mode = False\n",
        "  \n",
        "  def set_seize_mode(self):\n",
        "    if Tank.seize_developed == False:\n",
        "      return \n",
        "\n",
        "    #현재 시즈모드가 아닐 때 -> 시즈모드\n",
        "    if self.seize_mode == False:\n",
        "      print(f\"{self.name} : 시즈모드로 전환합니다.\")\n",
        "      self.damage *=2\n",
        "      self.seize_mode = True\n",
        "    #현재 시즈모드일 때 -> 시즈모드 해제\n",
        "    else:\n",
        "      print(f\"{self.name} : 시즈모드를 해제합니다..\")\n",
        "      self.damage /=2\n",
        "      self.seize_mode = False      \n",
        "\n",
        "\n",
        "#날 수 있는 기능을 가진 클래스\n",
        "class Flyable: \n",
        "  def __init__(self,flying_speed):\n",
        "    self.flying_speed = flying_speed\n",
        "\n",
        "  def fly(self, name, location):\n",
        "    print(f\"{name} : {location} 방향으로 날아갑니다. [속도 {self.flying_speed}]\")\n",
        "\n",
        "#공중 공격 유닛 클래스\n",
        "class FlyableAttackUnit(AttackUnit,Flyable):\n",
        "  def __init__(self,name,hp,damage,flying_speed):\n",
        "    AttackUnit.__init__(self,name,hp,0,damage) #지상 속도 : 0 \n",
        "    Flyable.__init__(self,flying_speed)\n",
        "\n",
        "  def move(self,location):\n",
        "    self.fly(self.name, location)\n",
        "\n",
        "# 레이스\n",
        "class Wraith(FlyableAttackUnit):\n",
        "  def __init__(self):\n",
        "    FlyableAttackUnit.__init__(self,\"레이스\",80,20,5)\n",
        "    self.clocked = False #클로킹 모드 (해제 상태)\n",
        "\n",
        "  def clocking(self):\n",
        "    if self.clocked == True : #클로킹 모드 -> 모드 해제\n",
        "      print(f\"{self.name} : 클로킹 모드 해제합니다.\")\n",
        "      self.clocked == False\n",
        "    else: #클로킹 모드 해제 -> 모드 설정\n",
        "      print(f\"{self.name} : 클로킹 모드 설정합니다.\")\n",
        "      self.clocked == True"
      ],
      "execution_count": null,
      "outputs": []
    },
    {
      "cell_type": "markdown",
      "metadata": {
        "id": "bQah7Dy_Idqj"
      },
      "source": [
        "####11. 스타크래프트 프로젝트 후반전"
      ]
    },
    {
      "cell_type": "code",
      "metadata": {
        "id": "S0M76PHPI7jP"
      },
      "source": [
        "def game_start():\n",
        "  print(\"[알림] 새로운 게임을 시작합니다.\")\n",
        "\n",
        "def game_over():\n",
        "  print(\"Player : gg\") # good game\n",
        "  print(\"[Player] 님이 게임에서 퇴장하셨습니다.\")"
      ],
      "execution_count": null,
      "outputs": []
    },
    {
      "cell_type": "code",
      "metadata": {
        "colab": {
          "base_uri": "https://localhost:8080/"
        },
        "id": "cBs-oXHJJXDK",
        "outputId": "c706e4ee-9706-46b4-af33-b4989789eaa1"
      },
      "source": [
        "#실제 게임 진행\n",
        "game_start()\n",
        "\n",
        "#마린 3기 생성\n",
        "m1 = Marine()\n",
        "m2 = Marine()\n",
        "m3 = Marine()\n",
        "\n",
        "#탱크 2기 생성\n",
        "t1 = Tank()\n",
        "t2 = Tank()\n",
        "\n",
        "#레이스 1기 생성\n",
        "w1 = Wraith()\n",
        "\n",
        "#유닛 일괄 관리 (생성된 모든 유닛 append)\n",
        "attack_units = []\n",
        "attack_units.append(m1)\n",
        "attack_units.append(m2)\n",
        "attack_units.append(m3)\n",
        "attack_units.append(t1)\n",
        "attack_units.append(t2)\n",
        "attack_units.append(w1)\n",
        "\n",
        "#전군 이동\n",
        "for unit in attack_units:\n",
        "  unit.move(\"1시\")\n",
        "\n",
        "#탱크 시즈모드 개발\n",
        "Tank.seize_developed = True\n",
        "print(\"[알림] 탱크 시즈 모드 개발이 완료되었습니다.\")\n",
        "\n",
        "#공격 모드 준비 (마린 : 스팀팩, 탱크 : 시즈모드 , 레이스 : 클로킹)\n",
        "for unit in attack_units:\n",
        "  if isinstance(unit,Marine):\n",
        "    unit.stimpack()\n",
        "  elif isinstance(unit,Tank):\n",
        "    unit.set_seize_mode()\n",
        "  elif isinstance(unit,Wraith):\n",
        "    unit.clocking()\n",
        "\n",
        "#전군 공격\n",
        "for unit in attack_units:\n",
        "  unit.attack(\"1시\")\n",
        "\n",
        "#전군 피해\n",
        "for unit in attack_units:\n",
        "  unit.damaged(randint(5,20)) #공격은 랜덤으로 받음 (5~20)\n",
        "\n",
        "#게임 종료\n",
        "game_over()"
      ],
      "execution_count": null,
      "outputs": [
        {
          "output_type": "stream",
          "text": [
            "[알림] 새로운 게임을 시작합니다.\n",
            "마린 유닛이 생성되었습니다.\n",
            "마린 유닛이 생성되었습니다.\n",
            "마린 유닛이 생성되었습니다.\n",
            "탱크 유닛이 생성되었습니다.\n",
            "탱크 유닛이 생성되었습니다.\n",
            "레이스 유닛이 생성되었습니다.\n",
            "마린 : 1시 방향으로 이동합니다. [속도 1]\n",
            "마린 : 1시 방향으로 이동합니다. [속도 1]\n",
            "마린 : 1시 방향으로 이동합니다. [속도 1]\n",
            "탱크 : 1시 방향으로 이동합니다. [속도 1]\n",
            "탱크 : 1시 방향으로 이동합니다. [속도 1]\n",
            "레이스 : 1시 방향으로 날아갑니다. [속도 5]\n",
            "[알림] 탱크 시즈 모드 개발이 완료되었습니다.\n",
            "마린 : 스팀팩을 사용합니다. (HP 10 감소)\n",
            "마린 : 스팀팩을 사용합니다. (HP 10 감소)\n",
            "마린 : 스팀팩을 사용합니다. (HP 10 감소)\n",
            "탱크 : 시즈모드로 전환합니다.\n",
            "탱크 : 시즈모드로 전환합니다.\n",
            "레이스 : 클로킹 모드 설정합니다.\n",
            "마린 : 1시 방향으로 적군을 공격 합니다. [공격력 5]\n",
            "마린 : 1시 방향으로 적군을 공격 합니다. [공격력 5]\n",
            "마린 : 1시 방향으로 적군을 공격 합니다. [공격력 5]\n",
            "탱크 : 1시 방향으로 적군을 공격 합니다. [공격력 70]\n",
            "탱크 : 1시 방향으로 적군을 공격 합니다. [공격력 70]\n",
            "레이스 : 1시 방향으로 적군을 공격 합니다. [공격력 20]\n",
            "마린 : 7 데미지를 입었습니다.\n",
            "마린 : 현재 체력은 23 입니다.\n",
            "마린 : 6 데미지를 입었습니다.\n",
            "마린 : 현재 체력은 24 입니다.\n",
            "마린 : 11 데미지를 입었습니다.\n",
            "마린 : 현재 체력은 19 입니다.\n",
            "탱크 : 13 데미지를 입었습니다.\n",
            "탱크 : 현재 체력은 137 입니다.\n",
            "탱크 : 19 데미지를 입었습니다.\n",
            "탱크 : 현재 체력은 131 입니다.\n",
            "레이스 : 14 데미지를 입었습니다.\n",
            "레이스 : 현재 체력은 66 입니다.\n",
            "Player : gg\n",
            "[Player] 님이 게임에서 퇴장하셨습니다.\n"
          ],
          "name": "stdout"
        }
      ]
    },
    {
      "cell_type": "markdown",
      "metadata": {
        "id": "_ticCNg0JwTW"
      },
      "source": [
        "##Quiz : 주어진 코드를 활용하여 부동산 프로그램을 작성하시오."
      ]
    },
    {
      "cell_type": "code",
      "metadata": {
        "id": "_2x0QBPvNkz2"
      },
      "source": [
        "class House: \n",
        "  #매물 초기화\n",
        "  def __init__(self, location, house_type, deal_type, price, completion_year):\n",
        "    self.location = location\n",
        "    self.house_type = house_type\n",
        "    self.deal_type = deal_type\n",
        "    self.price = price\n",
        "    self.completion_year = completion_year\n",
        "\n",
        "  #매물 정보 표시\n",
        "  def show_detail(self):\n",
        "    print(self.location, self.house_type, self.deal_type, self.price, self.completion_year)"
      ],
      "execution_count": null,
      "outputs": []
    },
    {
      "cell_type": "code",
      "metadata": {
        "colab": {
          "base_uri": "https://localhost:8080/"
        },
        "id": "RFh9PigkN22X",
        "outputId": "49377bcd-49af-4092-b4a3-4316f2169c56"
      },
      "source": [
        "houses = []\n",
        "house1 = House(\"강남\",\"아파트\",\"매매\",\"10억\",\"2010년\")\n",
        "house2 = House(\"마포\",\"오피스텔\",\"전세\",\"5억\",\"2007년\")\n",
        "house3 = House(\"송파\",\"빌라\",\"월세\",\"500/50\",\"2000년\")\n",
        "houses.append(house1)\n",
        "houses.append(house2)\n",
        "houses.append(house3)\n",
        "\n",
        "print(f\"총 {len(houses)}대의 매물이 있습니다.\")\n",
        "for house in houses:\n",
        "  house.show_detail()"
      ],
      "execution_count": null,
      "outputs": [
        {
          "output_type": "stream",
          "text": [
            "총 3대의 매물이 있습니다.\n",
            "강남 아파트 매매 10억 2010년\n",
            "마포 오피스텔 전세 5억 2007년\n",
            "송파 빌라 월세 500/50 2000년\n"
          ],
          "name": "stdout"
        }
      ]
    },
    {
      "cell_type": "code",
      "metadata": {
        "id": "aX9GEGS9PVnS"
      },
      "source": [
        ""
      ],
      "execution_count": null,
      "outputs": []
    }
  ]
}
