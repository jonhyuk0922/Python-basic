{
  "nbformat": 4,
  "nbformat_minor": 0,
  "metadata": {
    "colab": {
      "name": "나도코딩_파이썬 기본편(자료구조, 제어문,함수)",
      "provenance": [],
      "authorship_tag": "ABX9TyNlj5iYjpBESq+mss8DkjZ0",
      "include_colab_link": true
    },
    "kernelspec": {
      "name": "python3",
      "display_name": "Python 3"
    }
  },
  "cells": [
    {
      "cell_type": "markdown",
      "metadata": {
        "id": "view-in-github",
        "colab_type": "text"
      },
      "source": [
        "<a href=\"https://colab.research.google.com/github/jonhyuk0922/Python-basic/blob/main/%EB%82%98%EB%8F%84%EC%BD%94%EB%94%A9_%ED%8C%8C%EC%9D%B4%EC%8D%AC_%EA%B8%B0%EB%B3%B8%ED%8E%B8(%EC%9E%90%EB%A3%8C%EA%B5%AC%EC%A1%B0%2C_%EC%A0%9C%EC%96%B4%EB%AC%B8%2C%ED%95%A8%EC%88%98).ipynb\" target=\"_parent\"><img src=\"https://colab.research.google.com/assets/colab-badge.svg\" alt=\"Open In Colab\"/></a>"
      ]
    },
    {
      "cell_type": "markdown",
      "metadata": {
        "id": "xmPBXaA_Decm"
      },
      "source": [
        "#자료구조"
      ]
    },
    {
      "cell_type": "code",
      "metadata": {
        "id": "LRvrsplCtJUM"
      },
      "source": [
        "#리스트 []\n",
        "subway = [\"르브론\", \"데이비스\", \"커리\"]"
      ],
      "execution_count": null,
      "outputs": []
    },
    {
      "cell_type": "code",
      "metadata": {
        "colab": {
          "base_uri": "https://localhost:8080/"
        },
        "id": "_cERSHXftkyD",
        "outputId": "c15f5554-8642-43bd-e067-3553561bc126"
      },
      "source": [
        "print(subway.index(\"이종혁\"))"
      ],
      "execution_count": null,
      "outputs": [
        {
          "output_type": "stream",
          "text": [
            "0\n"
          ],
          "name": "stdout"
        }
      ]
    },
    {
      "cell_type": "code",
      "metadata": {
        "id": "NTLf0ps1tr6-"
      },
      "source": [
        "subway.append(\"테이텀\")"
      ],
      "execution_count": null,
      "outputs": []
    },
    {
      "cell_type": "code",
      "metadata": {
        "colab": {
          "base_uri": "https://localhost:8080/"
        },
        "id": "vOIiW3QP9pZq",
        "outputId": "f0b5a458-3104-408b-f0e3-17ff52ee18e4"
      },
      "source": [
        "print(subway)"
      ],
      "execution_count": null,
      "outputs": [
        {
          "output_type": "stream",
          "text": [
            "['르브론', '데이비스', '커리', '테이텀']\n"
          ],
          "name": "stdout"
        }
      ]
    },
    {
      "cell_type": "code",
      "metadata": {
        "id": "bhhcBYO2t7R4"
      },
      "source": [
        "subway.insert(1,\"서브룩\")"
      ],
      "execution_count": null,
      "outputs": []
    },
    {
      "cell_type": "code",
      "metadata": {
        "colab": {
          "base_uri": "https://localhost:8080/"
        },
        "id": "p7j7dOsQuAxt",
        "outputId": "f13b6c39-5f0c-4bc9-b59c-5f799854dfa6"
      },
      "source": [
        "subway"
      ],
      "execution_count": null,
      "outputs": [
        {
          "output_type": "execute_result",
          "data": {
            "text/plain": [
              "['르브론', '서브룩', '데이비스', '커리', '테이텀']"
            ]
          },
          "metadata": {
            "tags": []
          },
          "execution_count": 7
        }
      ]
    },
    {
      "cell_type": "code",
      "metadata": {
        "colab": {
          "base_uri": "https://localhost:8080/"
        },
        "id": "m5Dr3DUnuCG7",
        "outputId": "be371f3e-c226-411d-e7de-3dc4934681be"
      },
      "source": [
        "#지하철에 있는 사람을 한 명씩 뒤에서 꺼냄\n",
        "print(subway.pop())"
      ],
      "execution_count": null,
      "outputs": [
        {
          "output_type": "stream",
          "text": [
            "테이텀\n"
          ],
          "name": "stdout"
        }
      ]
    },
    {
      "cell_type": "code",
      "metadata": {
        "colab": {
          "base_uri": "https://localhost:8080/"
        },
        "id": "xaPZuXh9uZiY",
        "outputId": "5820b0fe-ec1d-406b-91d9-729bd0a8ed4c"
      },
      "source": [
        "subway.count(\"르브론\")"
      ],
      "execution_count": null,
      "outputs": [
        {
          "output_type": "execute_result",
          "data": {
            "text/plain": [
              "1"
            ]
          },
          "metadata": {
            "tags": []
          },
          "execution_count": 9
        }
      ]
    },
    {
      "cell_type": "code",
      "metadata": {
        "id": "VXaD2eiqugkd"
      },
      "source": [
        "#정렬도 가능\n",
        "Num_list = [3, 4, 5, 6, 2]\n",
        "Num_list.sort()\n",
        "print(Num_list)"
      ],
      "execution_count": null,
      "outputs": []
    },
    {
      "cell_type": "code",
      "metadata": {
        "colab": {
          "base_uri": "https://localhost:8080/"
        },
        "id": "ZGfxjlBvurcy",
        "outputId": "92f43b9d-927e-4dea-d794-6765078c3c93"
      },
      "source": [
        "# 순서 뒤집기 가능\n",
        "Num_list = [3, 4, 5, 6, 2]\n",
        "Num_list.reverse()\n",
        "print(Num_list)"
      ],
      "execution_count": null,
      "outputs": [
        {
          "output_type": "stream",
          "text": [
            "[2, 6, 5, 4, 3]\n"
          ],
          "name": "stdout"
        }
      ]
    },
    {
      "cell_type": "code",
      "metadata": {
        "colab": {
          "base_uri": "https://localhost:8080/"
        },
        "id": "aArJOgqUu0EF",
        "outputId": "d8592fed-3914-41a0-b2e0-4f4371b4e72c"
      },
      "source": [
        "#모두 지우기\n",
        "Num_list = [3, 4, 5, 6, 2]\n",
        "Num_list.clear()\n",
        "Num_list"
      ],
      "execution_count": null,
      "outputs": [
        {
          "output_type": "execute_result",
          "data": {
            "text/plain": [
              "[]"
            ]
          },
          "metadata": {
            "tags": []
          },
          "execution_count": 13
        }
      ]
    },
    {
      "cell_type": "code",
      "metadata": {
        "colab": {
          "base_uri": "https://localhost:8080/"
        },
        "id": "6sJYX285u3u7",
        "outputId": "663c940f-912f-4758-8cb6-d4b28e969b31"
      },
      "source": [
        "#다양한 자료형 함께 사용\n",
        "mix_list = [ \"프로농구\" , 3 , True]\n",
        "print(mix_list)"
      ],
      "execution_count": null,
      "outputs": [
        {
          "output_type": "stream",
          "text": [
            "['프로농구', 3, True]\n"
          ],
          "name": "stdout"
        }
      ]
    },
    {
      "cell_type": "code",
      "metadata": {
        "colab": {
          "base_uri": "https://localhost:8080/"
        },
        "id": "6rPPJW7hvR1B",
        "outputId": "1dc3ccc5-5b36-4fa9-b799-8371f7f0f8af"
      },
      "source": [
        "#리스트 확장\n",
        "Num_list = [3,5,7,8]\n",
        "\n",
        "Num_list.extend(mix_list)\n",
        "\n",
        "print(Num_list)"
      ],
      "execution_count": null,
      "outputs": [
        {
          "output_type": "stream",
          "text": [
            "[3, 5, 7, 8, '프로농구', 3, True]\n"
          ],
          "name": "stdout"
        }
      ]
    },
    {
      "cell_type": "code",
      "metadata": {
        "colab": {
          "base_uri": "https://localhost:8080/"
        },
        "id": "GnDhEX3kvVsr",
        "outputId": "64ea5d73-63f0-462c-f04b-b3c5ebc27f73"
      },
      "source": [
        "#딕셔너리 {}\n",
        "cabinet = {3:\"유재석\",100:\"김태호\"}\n",
        "print(cabinet[3])\n",
        "print(cabinet[100])\n",
        "\n",
        "print(cabinet.get(3))\n",
        "#print(cabinet[5])\n",
        "print(cabinet.get(5),\"사용 가능\")"
      ],
      "execution_count": null,
      "outputs": [
        {
          "output_type": "stream",
          "text": [
            "유재석\n",
            "김태호\n",
            "유재석\n",
            "None 사용 가능\n"
          ],
          "name": "stdout"
        }
      ]
    },
    {
      "cell_type": "code",
      "metadata": {
        "colab": {
          "base_uri": "https://localhost:8080/"
        },
        "id": "_CBFkuSiwAAS",
        "outputId": "6da945ed-4c6b-4613-9217-a802e5c51196"
      },
      "source": [
        "print(3 in cabinet)\n",
        "print(5 in cabinet)"
      ],
      "execution_count": null,
      "outputs": [
        {
          "output_type": "stream",
          "text": [
            "True\n",
            "False\n"
          ],
          "name": "stdout"
        }
      ]
    },
    {
      "cell_type": "code",
      "metadata": {
        "colab": {
          "base_uri": "https://localhost:8080/"
        },
        "id": "lsWjkdmOwbcd",
        "outputId": "ad32b57e-513f-445f-a3e7-013263396f90"
      },
      "source": [
        "print(cabinet.items())"
      ],
      "execution_count": null,
      "outputs": [
        {
          "output_type": "stream",
          "text": [
            "dict_items([(3, '유재석'), (100, '김태호')])\n"
          ],
          "name": "stdout"
        }
      ]
    },
    {
      "cell_type": "code",
      "metadata": {
        "colab": {
          "base_uri": "https://localhost:8080/"
        },
        "id": "nUWMlrFMwq80",
        "outputId": "b92e6f3b-b142-47bd-e1d5-ad18405962a4"
      },
      "source": [
        "#튜플 변경이안되지만 속도가 list보다 빠르다\n",
        "\n",
        "menu = (\"돈까스\",\"생선까스\")\n",
        "print(menu[0])"
      ],
      "execution_count": null,
      "outputs": [
        {
          "output_type": "stream",
          "text": [
            "돈까스\n"
          ],
          "name": "stdout"
        }
      ]
    },
    {
      "cell_type": "code",
      "metadata": {
        "colab": {
          "base_uri": "https://localhost:8080/"
        },
        "id": "Uv-otM5Ogbaj",
        "outputId": "2a17d965-3408-4464-c9a9-4228ef9acd10"
      },
      "source": [
        "name =\"이종혁\" \n",
        "age = 26\n",
        "hobby = \"basketball\"\n",
        "print(name,age,hobby)"
      ],
      "execution_count": null,
      "outputs": [
        {
          "output_type": "stream",
          "text": [
            "이종혁 26 basketball\n"
          ],
          "name": "stdout"
        }
      ]
    },
    {
      "cell_type": "code",
      "metadata": {
        "colab": {
          "base_uri": "https://localhost:8080/"
        },
        "id": "fLYx-iwpxCLp",
        "outputId": "8d11a0d7-2449-4b76-f0e6-d35fb31052d3"
      },
      "source": [
        "#변수 지정 한 번에 가능하다 \n",
        "#name =\"이종혁\" \n",
        "#age = 26\n",
        "#hobby = \"basketball\"\n",
        "(name,age,hobby) = (\"이종혁\",26,\"basketball\")\n",
        "print(name,age,hobby)"
      ],
      "execution_count": null,
      "outputs": [
        {
          "output_type": "stream",
          "text": [
            "이종혁 26 basketball\n"
          ],
          "name": "stdout"
        }
      ]
    },
    {
      "cell_type": "code",
      "metadata": {
        "colab": {
          "base_uri": "https://localhost:8080/"
        },
        "id": "xedYuQarBU4P",
        "outputId": "1428fab6-0def-43eb-92c4-0225b0757cbf"
      },
      "source": [
        "solution([\"Jane\",\"Kim\"])"
      ],
      "execution_count": null,
      "outputs": [
        {
          "output_type": "stream",
          "text": [
            "\"김서방은 1에 있다\"\n"
          ],
          "name": "stdout"
        }
      ]
    },
    {
      "cell_type": "code",
      "metadata": {
        "colab": {
          "base_uri": "https://localhost:8080/"
        },
        "id": "M2sQNVAG8lU1",
        "outputId": "1f9982f7-c90f-44ab-f5cd-75310dcb3be0"
      },
      "source": [
        "#쿠폰 당첨 예제\n",
        "from random import *\n",
        "users = range(1,21)\n",
        "users = list(users)\n",
        "shuffle(users)\n",
        "\n",
        "winners = sample(users,4)\n",
        "print(\"-- 당첨자 발표 --\")\n",
        "print(f\"치킨 당첨자 : {winners[0]}\")\n",
        "print(f\"커피 당첨자 : {winners[1:]}\")\n",
        "print(\"-- 축하합니다 --\")"
      ],
      "execution_count": null,
      "outputs": [
        {
          "output_type": "stream",
          "text": [
            "-- 당첨자 발표 --\n",
            "치킨 당첨자 : 8\n",
            "커피 당첨자 : [1, 9, 20]\n",
            "-- 축하합니다 --\n"
          ],
          "name": "stdout"
        }
      ]
    },
    {
      "cell_type": "markdown",
      "metadata": {
        "id": "TdvjLRRq8lAO"
      },
      "source": [
        "#제어문"
      ]
    },
    {
      "cell_type": "markdown",
      "metadata": {
        "id": "SKH91RF46ISF"
      },
      "source": [
        "###1)if문"
      ]
    },
    {
      "cell_type": "code",
      "metadata": {
        "colab": {
          "base_uri": "https://localhost:8080/"
        },
        "id": "fDwfUD1sB9Dz",
        "outputId": "11b85ff5-3fab-4ccf-928f-8e55d03c04cc"
      },
      "source": [
        "weather = input(\"오늘 날씨는 어때요? \")\n",
        "if weather == \"비\" or weather == \"눈\":\n",
        "  print(\"우산을 챙기세요\")\n",
        "elif weather == \"미세먼지\":\n",
        "  print(\"마스크를 챙기세요\")\n",
        "else:\n",
        "  print(\"준비물 필요 없어요.\")"
      ],
      "execution_count": null,
      "outputs": [
        {
          "output_type": "stream",
          "text": [
            "오늘 날씨는 어때요? 눈\n",
            "우산을 챙기세요\n"
          ],
          "name": "stdout"
        }
      ]
    },
    {
      "cell_type": "code",
      "metadata": {
        "colab": {
          "base_uri": "https://localhost:8080/"
        },
        "id": "UPoA7oYFB9A1",
        "outputId": "69ecf636-00cd-4de8-fbfa-b5d9a7cf50f4"
      },
      "source": [
        "temp = int(input(\"기온은 어때요? \"))\n",
        "if 30 <= temp:\n",
        "  print(\"너무 더워요. 나가지 마세요\")\n",
        "elif 10<=temp and temp < 30:\n",
        "  print(\"괜찮은 날씨에요\")\n",
        "elif 0<=temp <10:\n",
        "  print(\"외투를 챙기세요\")\n",
        "else:\n",
        "  print(\"너무추워요. 나가지 마세요\")"
      ],
      "execution_count": null,
      "outputs": [
        {
          "output_type": "stream",
          "text": [
            "기온은 어때요? -3\n",
            "너무추워요. 나가지 마세요\n"
          ],
          "name": "stdout"
        }
      ]
    },
    {
      "cell_type": "markdown",
      "metadata": {
        "id": "eUEE_SWW6Lru"
      },
      "source": [
        "###2)for문"
      ]
    },
    {
      "cell_type": "code",
      "metadata": {
        "colab": {
          "base_uri": "https://localhost:8080/"
        },
        "id": "L5EFV2rNB89_",
        "outputId": "bac5d825-642c-4266-bbb1-0b36f28ac46c"
      },
      "source": [
        "for waiting_no in [0,1,2,3,4]:\n",
        "  print(f\"대기번호: {waiting_no}\")"
      ],
      "execution_count": null,
      "outputs": [
        {
          "output_type": "stream",
          "text": [
            "대기번호: 0\n",
            "대기번호: 1\n",
            "대기번호: 2\n",
            "대기번호: 3\n",
            "대기번호: 4\n"
          ],
          "name": "stdout"
        }
      ]
    },
    {
      "cell_type": "code",
      "metadata": {
        "colab": {
          "base_uri": "https://localhost:8080/"
        },
        "id": "dqYvIZD38k8t",
        "outputId": "ac9c5a15-6c8d-480f-e4cf-8684f70dfc60"
      },
      "source": [
        "starbucks = [\"아이언맨\",\"토르\",\"아이엠 그루트\"]\n",
        "for customer in starbucks:\n",
        "  print(f\"{customer}, 커피 나왔습니다.\")"
      ],
      "execution_count": null,
      "outputs": [
        {
          "output_type": "stream",
          "text": [
            "아이언맨, 커피 나왔습니다.\n",
            "토르, 커피 나왔습니다.\n",
            "아이엠 그루트, 커피 나왔습니다.\n"
          ],
          "name": "stdout"
        }
      ]
    },
    {
      "cell_type": "markdown",
      "metadata": {
        "id": "WvSpQU338k5w"
      },
      "source": [
        "###3)while문"
      ]
    },
    {
      "cell_type": "code",
      "metadata": {
        "colab": {
          "base_uri": "https://localhost:8080/"
        },
        "id": "IBh0HnckgjxQ",
        "outputId": "720c89ea-1844-430f-bdc7-9680428890be"
      },
      "source": [
        "customer = \"토르\"\n",
        "index = 5\n",
        "while index >= 1:\n",
        "  print(f\"{customer}, 커피가 준비되었습니다. {index}번 남았습니다\")\n",
        "  index-=1\n",
        "  if index == 0:\n",
        "    print(\"커피는 폐기처분 되었습니다.\")"
      ],
      "execution_count": null,
      "outputs": [
        {
          "output_type": "stream",
          "text": [
            "토르, 커피가 준비되었습니다. 5번 남았습니다\n",
            "토르, 커피가 준비되었습니다. 4번 남았습니다\n",
            "토르, 커피가 준비되었습니다. 3번 남았습니다\n",
            "토르, 커피가 준비되었습니다. 2번 남았습니다\n",
            "토르, 커피가 준비되었습니다. 1번 남았습니다\n",
            "커피는 폐기처분 되었습니다.\n"
          ],
          "name": "stdout"
        }
      ]
    },
    {
      "cell_type": "code",
      "metadata": {
        "colab": {
          "base_uri": "https://localhost:8080/"
        },
        "id": "xr9dC5l3gjts",
        "outputId": "5e517b39-edf3-4f44-fa6d-1879474b9b65"
      },
      "source": [
        "customer = \"토르\"\n",
        "person = \"unknown\"\n",
        "while person != customer:\n",
        "  print(f\"{customer}, 커피가 준비되었습니다.\")\n",
        "  person = input(\"성함이 어떻게 되십니까?\")"
      ],
      "execution_count": null,
      "outputs": [
        {
          "output_type": "stream",
          "text": [
            "토르, 커피가 준비되었습니다.\n",
            "성함이 어떻게 되십니까?조녁\n",
            "토르, 커피가 준비되었습니다.\n",
            "성함이 어떻게 되십니까?토르\n"
          ],
          "name": "stdout"
        }
      ]
    },
    {
      "cell_type": "markdown",
      "metadata": {
        "id": "CRJWdSYQj5TX"
      },
      "source": [
        "###4)continue , break"
      ]
    },
    {
      "cell_type": "code",
      "metadata": {
        "colab": {
          "base_uri": "https://localhost:8080/"
        },
        "id": "D57w820hj5sJ",
        "outputId": "964f120d-326c-4bed-ea67-8667f4b7aeb8"
      },
      "source": [
        "absent = [3,6] #결석\n",
        "no_book = [8]\n",
        "for student in range(1,11): #1,2,3,4,5,6,7,8,9,10\n",
        "  if student in absent:\n",
        "    continue\n",
        "  elif student in no_book:\n",
        "    print(\"후.. 오늘 수업끝! {0}는 교무실로\".format(student))\n",
        "    break\n",
        "  print(\"{0}가 책을 읽어라\".format(student))\n"
      ],
      "execution_count": null,
      "outputs": [
        {
          "output_type": "stream",
          "text": [
            "1가 책을 읽어라\n",
            "2가 책을 읽어라\n",
            "4가 책을 읽어라\n",
            "5가 책을 읽어라\n",
            "7가 책을 읽어라\n",
            "후.. 오늘 수업끝! 8는 교무실로\n"
          ],
          "name": "stdout"
        }
      ]
    },
    {
      "cell_type": "markdown",
      "metadata": {
        "id": "MqtmQNF2gjqv"
      },
      "source": [
        "###5)한줄 for문"
      ]
    },
    {
      "cell_type": "code",
      "metadata": {
        "colab": {
          "base_uri": "https://localhost:8080/"
        },
        "id": "vlEM6g2OrqFq",
        "outputId": "9ff85630-7f34-44d7-b3b9-08201fce6e58"
      },
      "source": [
        "#출석번호가 1 2 3 4, 앞에 100을 붙이기로함 -> 101 102 103 104 ..\n",
        "students = [1,2,3,4,5]\n",
        "students = [i+100 for i in students]\n",
        "print(students)"
      ],
      "execution_count": null,
      "outputs": [
        {
          "output_type": "stream",
          "text": [
            "[101, 102, 103, 104, 105]\n"
          ],
          "name": "stdout"
        }
      ]
    },
    {
      "cell_type": "code",
      "metadata": {
        "colab": {
          "base_uri": "https://localhost:8080/"
        },
        "id": "ehv080mPrqC1",
        "outputId": "0e5d354d-5d9a-4eef-d990-e970cf1129f9"
      },
      "source": [
        "#학생 이름을 길이로 변환\n",
        "students = [\"Iron man\",\"Thor\",\"I am groot\"]\n",
        "#students = [len(i) for i in students]\n",
        "#print(students)\n",
        "students = [i.upper() for i in students]\n",
        "print(students)"
      ],
      "execution_count": null,
      "outputs": [
        {
          "output_type": "stream",
          "text": [
            "['IRON MAN', 'THOR', 'I AM GROOT']\n"
          ],
          "name": "stdout"
        }
      ]
    },
    {
      "cell_type": "code",
      "metadata": {
        "id": "4BCHAw_Vrp_7"
      },
      "source": [
        "\"\"\"Quiz : 당신은 cocoa 서비스를 이용하는 택시 기사님입니다.\n",
        "50명의 승객과 매칭 기회가 있을 때, 총 탑승 승객 수를 구하는 프로그램을 작성하시오.\n",
        "\n",
        "조건1 : 승객별 운행 소요 시간은 5~50분 사이의 난수로 정해집니다.\n",
        "조건2 : 당신은 소요 시간 5분 ~15분 사이의 승객만 매칭해야 합니다.\"\"\"\n",
        "from random import *\n",
        "passenger = \n",
        "run_time = \n",
        "for i in range(50):\n",
        "  print(f\"[\")"
      ],
      "execution_count": null,
      "outputs": []
    },
    {
      "cell_type": "code",
      "metadata": {
        "colab": {
          "base_uri": "https://localhost:8080/"
        },
        "id": "Ec1tF3JErp9E",
        "outputId": "ea471768-aaf3-472e-f252-05b8047ceec1"
      },
      "source": [
        "from random import *\n",
        "randrange(5)"
      ],
      "execution_count": null,
      "outputs": [
        {
          "output_type": "execute_result",
          "data": {
            "text/plain": [
              "1"
            ]
          },
          "metadata": {
            "tags": []
          },
          "execution_count": 3
        }
      ]
    },
    {
      "cell_type": "code",
      "metadata": {
        "id": "vDkB6x2It1ZE"
      },
      "source": [
        "Quiz) "
      ],
      "execution_count": null,
      "outputs": []
    },
    {
      "cell_type": "code",
      "metadata": {
        "id": "9uaEcMqMt1Rf",
        "colab": {
          "base_uri": "https://localhost:8080/"
        },
        "outputId": "6799a217-b7fd-4331-ccec-858d186ad163"
      },
      "source": [
        "from random import *\n",
        "x = 0\n",
        "for i in range(1,51):\n",
        "  time = randrange(5,51)\n",
        "  if time <= 15:\n",
        "    print(f\"[o]{i}번째 손님 (소요시간 : {time}분)\")\n",
        "    x +=1\n",
        "  else: \n",
        "    print(f\"[ ]{i}번째 손님 (소요시간 : {time}분)\")\n",
        "\n",
        "print(f\"총 탑승 승객 : {x}분\")"
      ],
      "execution_count": null,
      "outputs": [
        {
          "output_type": "stream",
          "text": [
            "[ ]1번째 손님 (소요시간 : 37분)\n",
            "[ ]2번째 손님 (소요시간 : 49분)\n",
            "[ ]3번째 손님 (소요시간 : 48분)\n",
            "[ ]4번째 손님 (소요시간 : 33분)\n",
            "[ ]5번째 손님 (소요시간 : 32분)\n",
            "[ ]6번째 손님 (소요시간 : 36분)\n",
            "[ ]7번째 손님 (소요시간 : 43분)\n",
            "[ ]8번째 손님 (소요시간 : 36분)\n",
            "[ ]9번째 손님 (소요시간 : 22분)\n",
            "[o]10번째 손님 (소요시간 : 13분)\n",
            "[ ]11번째 손님 (소요시간 : 42분)\n",
            "[o]12번째 손님 (소요시간 : 7분)\n",
            "[ ]13번째 손님 (소요시간 : 37분)\n",
            "[ ]14번째 손님 (소요시간 : 33분)\n",
            "[o]15번째 손님 (소요시간 : 6분)\n",
            "[ ]16번째 손님 (소요시간 : 31분)\n",
            "[o]17번째 손님 (소요시간 : 13분)\n",
            "[o]18번째 손님 (소요시간 : 14분)\n",
            "[ ]19번째 손님 (소요시간 : 29분)\n",
            "[ ]20번째 손님 (소요시간 : 29분)\n",
            "[ ]21번째 손님 (소요시간 : 28분)\n",
            "[ ]22번째 손님 (소요시간 : 45분)\n",
            "[ ]23번째 손님 (소요시간 : 50분)\n",
            "[ ]24번째 손님 (소요시간 : 37분)\n",
            "[ ]25번째 손님 (소요시간 : 17분)\n",
            "[ ]26번째 손님 (소요시간 : 46분)\n",
            "[ ]27번째 손님 (소요시간 : 42분)\n",
            "[ ]28번째 손님 (소요시간 : 21분)\n",
            "[ ]29번째 손님 (소요시간 : 41분)\n",
            "[ ]30번째 손님 (소요시간 : 28분)\n",
            "[o]31번째 손님 (소요시간 : 5분)\n",
            "[ ]32번째 손님 (소요시간 : 42분)\n",
            "[ ]33번째 손님 (소요시간 : 44분)\n",
            "[ ]34번째 손님 (소요시간 : 42분)\n",
            "[o]35번째 손님 (소요시간 : 14분)\n",
            "[o]36번째 손님 (소요시간 : 5분)\n",
            "[ ]37번째 손님 (소요시간 : 38분)\n",
            "[ ]38번째 손님 (소요시간 : 41분)\n",
            "[o]39번째 손님 (소요시간 : 13분)\n",
            "[ ]40번째 손님 (소요시간 : 43분)\n",
            "[ ]41번째 손님 (소요시간 : 32분)\n",
            "[ ]42번째 손님 (소요시간 : 27분)\n",
            "[ ]43번째 손님 (소요시간 : 21분)\n",
            "[ ]44번째 손님 (소요시간 : 20분)\n",
            "[o]45번째 손님 (소요시간 : 9분)\n",
            "[ ]46번째 손님 (소요시간 : 23분)\n",
            "[o]47번째 손님 (소요시간 : 8분)\n",
            "[ ]48번째 손님 (소요시간 : 39분)\n",
            "[ ]49번째 손님 (소요시간 : 35분)\n",
            "[o]50번째 손님 (소요시간 : 10분)\n",
            "총 탑승 승객 : 12분\n"
          ],
          "name": "stdout"
        }
      ]
    },
    {
      "cell_type": "markdown",
      "metadata": {
        "id": "0ueKG0FwBH_e"
      },
      "source": [
        "#함수"
      ]
    },
    {
      "cell_type": "markdown",
      "metadata": {
        "id": "A5xAOf1ZBJym"
      },
      "source": [
        "####1)함수\n",
        "# 함수란, 입력값이 있고 출력값이 있는 것을 말한다. "
      ]
    },
    {
      "cell_type": "code",
      "metadata": {
        "id": "dq7dpsslBSKz",
        "colab": {
          "base_uri": "https://localhost:8080/"
        },
        "outputId": "fb44f1f8-8e9b-462d-a386-37832bb359d1"
      },
      "source": [
        "def open_account():\n",
        "  print(\"새로운 계좌가 생성되었습니다.\")\n",
        "\n",
        "open_account()"
      ],
      "execution_count": null,
      "outputs": [
        {
          "output_type": "stream",
          "text": [
            "새로운 계좌가 생성되었습니다.\n"
          ],
          "name": "stdout"
        }
      ]
    },
    {
      "cell_type": "markdown",
      "metadata": {
        "id": "5IRURwYgK0ti"
      },
      "source": [
        "####2)전달값과 반환값"
      ]
    },
    {
      "cell_type": "code",
      "metadata": {
        "colab": {
          "base_uri": "https://localhost:8080/"
        },
        "id": "Upzj-Vo9Ku9Y",
        "outputId": "a7509c61-fca3-4771-ba67-4a70294033c6"
      },
      "source": [
        "def deposit(balance, money):\n",
        "  print(f\"입금이 완료되었습니다. 잔액은 {balance+money}원입니다.\")\n",
        "  return balance + money\n",
        "\n",
        "balance = 0 #잔액\n",
        "balance = deposit(balance,1000)\n",
        "print(balance)"
      ],
      "execution_count": null,
      "outputs": [
        {
          "output_type": "stream",
          "text": [
            "입금이 완료되었습니다. 잔액은 1000원입니다.\n",
            "1000\n"
          ],
          "name": "stdout"
        }
      ]
    },
    {
      "cell_type": "code",
      "metadata": {
        "colab": {
          "base_uri": "https://localhost:8080/"
        },
        "id": "DimTbyKqLUFf",
        "outputId": "8c952bd3-dbf5-4627-f570-7e42455ebf77"
      },
      "source": [
        "def withdraw(balance,money):\n",
        "  if balance > money:\n",
        "    print(f\"출금이 완료되었습니다. 잔액은{balance-money}원입니다.\")\n",
        "    return balance - money\n",
        "  else:\n",
        "    print(f\"출금이 완료되지 않았습니다. 잔액은 {balance}원입니다.\")\n",
        "    return balance\n",
        "\n",
        "balance = 0 #잔액\n",
        "balance = deposit(balance,2000)\n",
        "#balance = withdraw(balance,3000)\n",
        "balance = withdraw(balance,500)"
      ],
      "execution_count": null,
      "outputs": [
        {
          "output_type": "stream",
          "text": [
            "입금이 완료되었습니다. 잔액은 2000원입니다.\n",
            "출금이 완료되었습니다. 잔액은1500원입니다.\n"
          ],
          "name": "stdout"
        }
      ]
    },
    {
      "cell_type": "code",
      "metadata": {
        "colab": {
          "base_uri": "https://localhost:8080/"
        },
        "id": "ATLTTC6ZLZiP",
        "outputId": "498f6992-bb97-4bae-af7b-010ab54484a7"
      },
      "source": [
        "def withdraw_night(balance,money): #저녁에 출금\n",
        "    commission = 100 #수수료 100원\n",
        "    return commission, balance- commission - money\n",
        "\n",
        "commission, balance = withdraw_night(balance,500)\n",
        "print(f\"수수료 {commission}원이며, 잔액은 {balance}원입니다.\")"
      ],
      "execution_count": null,
      "outputs": [
        {
          "output_type": "stream",
          "text": [
            "수수료 100원이며, 잔액은 -900원입니다.\n"
          ],
          "name": "stdout"
        }
      ]
    },
    {
      "cell_type": "markdown",
      "metadata": {
        "id": "lF4g7qfENV0d"
      },
      "source": [
        "####3)기본값 "
      ]
    },
    {
      "cell_type": "code",
      "metadata": {
        "colab": {
          "base_uri": "https://localhost:8080/"
        },
        "id": "ai-9VLgWMuOi",
        "outputId": "7ed1e3ef-bc7b-4fbb-86bc-44e72538e810"
      },
      "source": [
        "def profile(name, age, main_lang):\n",
        "  print(f\"이름 : {name}\\t나이 : {age}\\t주 사용 언어 : {main_lang}\")\n",
        "\n",
        "profile(\"유재석\",20,\"파이썬\")\n",
        "profile(\"김태호\",25,\"자바\")"
      ],
      "execution_count": null,
      "outputs": [
        {
          "output_type": "stream",
          "text": [
            "이름 : 유재석\t나이 : 20\t주 사용 언어 : 파이썬\n",
            "이름 : 김태호\t나이 : 25\t주 사용 언어 : 자바\n"
          ],
          "name": "stdout"
        }
      ]
    },
    {
      "cell_type": "code",
      "metadata": {
        "colab": {
          "base_uri": "https://localhost:8080/"
        },
        "id": "CEYC6Ka_N-VD",
        "outputId": "b4c11d82-1c6c-421e-d621-8ab7e574e712"
      },
      "source": [
        "#같은 학교, 같은 학년, 같은 반, 같은 수업일 때.\n",
        "def profile(name, age=20, main_lang=\"파이썬\"):\n",
        "  print(f\"이름 : {name}\\t나이 : {age}\\t주 사용 언어 : {main_lang}\")\n",
        "\n",
        "profile(\"유재석\")\n",
        "profile(\"김태호\")"
      ],
      "execution_count": null,
      "outputs": [
        {
          "output_type": "stream",
          "text": [
            "이름 : 유재석\t나이 : 20\t주 사용 언어 : 파이썬\n",
            "이름 : 김태호\t나이 : 20\t주 사용 언어 : 파이썬\n"
          ],
          "name": "stdout"
        }
      ]
    },
    {
      "cell_type": "markdown",
      "metadata": {
        "id": "of1vFz-GOgiY"
      },
      "source": [
        "####4)키워드값 \n",
        "키워드에 값을 넣어 함수를 호출하면, 순서가 뒤죽박죽이더라도 함수 인자 순서대로 출력해준다."
      ]
    },
    {
      "cell_type": "code",
      "metadata": {
        "colab": {
          "base_uri": "https://localhost:8080/"
        },
        "id": "TqYlwdGrOaVP",
        "outputId": "389ab288-6d0d-46f6-98a0-39247afd3099"
      },
      "source": [
        "def profile(name, age, main_lang):\n",
        "  print(name, age, main_lang)\n",
        "\n",
        "profile(name=\"유재석\",main_lang=\"파이썬\",age=20)\n",
        "profile(main_lang=\"자바\",age=25,name=\"김태호\")"
      ],
      "execution_count": null,
      "outputs": [
        {
          "output_type": "stream",
          "text": [
            "유재석 20 파이썬\n",
            "김태호 25 자바\n"
          ],
          "name": "stdout"
        }
      ]
    },
    {
      "cell_type": "markdown",
      "metadata": {
        "id": "gET58aSDO-1g"
      },
      "source": [
        "####5)가변인자\n"
      ]
    },
    {
      "cell_type": "code",
      "metadata": {
        "colab": {
          "base_uri": "https://localhost:8080/"
        },
        "id": "pE4pvFGKO-cy",
        "outputId": "e21744c3-1fb4-4711-aeca-73e3eb2e2411"
      },
      "source": [
        "def profile(name, age, lang1,lang2,lang3,lang4,lang5):\n",
        "  print(f\"이름 :{name}\\t나이 : {age}\\t\", end=\" \")\n",
        "  print(lang1,lang2,lang3,lang4,lang5)\n",
        "\n",
        "profile(\"유재석\",20,\"Python\",\"Java\",\"C\",\"C++\",\"C#\")\n",
        "profile(\"김태호\",25,\"Kotlin\",\"SWift\",\" \",\" \",\" \")"
      ],
      "execution_count": null,
      "outputs": [
        {
          "output_type": "stream",
          "text": [
            "이름 :유재석\t나이 : 20\t Python Java C C++ C#\n",
            "이름 :김태호\t나이 : 25\t Kotlin SWift      \n"
          ],
          "name": "stdout"
        }
      ]
    },
    {
      "cell_type": "code",
      "metadata": {
        "colab": {
          "base_uri": "https://localhost:8080/"
        },
        "id": "isnAr8CvO0Ca",
        "outputId": "9b35aab2-f55c-430d-d569-7157d0d23b2a"
      },
      "source": [
        "def profile(name, age, *language):\n",
        "  print(f\"이름 :{name}\\t나이 : {age}\\t\", end=\" \")\n",
        "  for lang in language:\n",
        "    print(lang,end=\" \")\n",
        "  print()\n",
        "\n",
        "profile(\"유재석\",20,\"Python\",\"Java\",\"C\",\"C++\",\"C#\",\"Go\")\n",
        "profile(\"김태호\",25,\"Kotlin\",\"SWift\")"
      ],
      "execution_count": null,
      "outputs": [
        {
          "output_type": "stream",
          "text": [
            "이름 :유재석\t나이 : 20\t Python Java C C++ C# Go \n",
            "이름 :김태호\t나이 : 25\t Kotlin SWift \n"
          ],
          "name": "stdout"
        }
      ]
    },
    {
      "cell_type": "markdown",
      "metadata": {
        "id": "lZcbp-RDSMEc"
      },
      "source": [
        "####6)지역변수와 전역변수\n",
        "지역변수 : 함수가 호출될 떄 만들어졌다가, 함수가 끝날 때 사라지는 변수 \n",
        "\n",
        "전역변수 : 어디서든 부를 수 있는 변수"
      ]
    },
    {
      "cell_type": "code",
      "metadata": {
        "colab": {
          "base_uri": "https://localhost:8080/"
        },
        "id": "hIerSCCXR65c",
        "outputId": "d0315582-bb7d-424d-9de9-5eef789c777e"
      },
      "source": [
        "gun = 10\n",
        " \n",
        "def checkpoint(soldiers): #경계 근무\n",
        "  #gun = 20\n",
        "  global gun #전역 공간에 있는 gun 사용\n",
        "  gun = gun - soldiers\n",
        "  print(f\"[함수 내] 남은 총 : {gun}\")\n",
        "\n",
        "print(f\"전체 총 : {gun}\")\n",
        "checkpoint(2) #2명이 경계 근무 나감\n",
        "print(f\"남은 총 : {gun}\")"
      ],
      "execution_count": null,
      "outputs": [
        {
          "output_type": "stream",
          "text": [
            "전체 총 : 10\n",
            "[함수 내] 남은 총 : 8\n",
            "남은 총 : 8\n"
          ],
          "name": "stdout"
        }
      ]
    },
    {
      "cell_type": "code",
      "metadata": {
        "colab": {
          "base_uri": "https://localhost:8080/"
        },
        "id": "Wc93Pr5dS4JD",
        "outputId": "62377b93-18dc-466a-85d1-1570873bceac"
      },
      "source": [
        "gun = 10\n",
        "\n",
        "def checkpoint_return(gun, soldiers):\n",
        "  gun = gun - soldiers\n",
        "  print(f\"[함수 내] 남은 총 : {gun}\")\n",
        "  return gun\n",
        "  \n",
        "  \n",
        "print(f\"전체 총 : {gun}\")\n",
        "gun = checkpoint_return(gun,2)\n",
        "print(f\"남은 총 : {gun}\")"
      ],
      "execution_count": null,
      "outputs": [
        {
          "output_type": "stream",
          "text": [
            "전체 총 : 10\n",
            "[함수 내] 남은 총 : 8\n",
            "남은 총 : 8\n"
          ],
          "name": "stdout"
        }
      ]
    },
    {
      "cell_type": "markdown",
      "metadata": {
        "id": "TkOqEPIvV7om"
      },
      "source": [
        "###Quiz6 : 성별 적정 체중 예측하기"
      ]
    },
    {
      "cell_type": "code",
      "metadata": {
        "colab": {
          "base_uri": "https://localhost:8080/"
        },
        "id": "DTVejd2XT6V1",
        "outputId": "5c6ba4c9-cc99-433a-963f-1edaad7ebe59"
      },
      "source": [
        "def std_weight(height,gender):\n",
        "  if gender == \"남자\":\n",
        "    return height * height * 22\n",
        "  else:\n",
        "    return height * height * 21\n",
        "\n",
        "height = 186 #cm단위\n",
        "gender = \"남자\"\n",
        "weight = round(std_weight(height/100,gender), 2)\n",
        "print(f\"키 {height}cm {gender}의 표준 체중은 {weight}kg 입니다.\")"
      ],
      "execution_count": null,
      "outputs": [
        {
          "output_type": "stream",
          "text": [
            "키 186cm 남자의 표준 체중은 76.11kg 입니다.\n"
          ],
          "name": "stdout"
        }
      ]
    },
    {
      "cell_type": "code",
      "metadata": {
        "id": "NC7ZIsEdn70X"
      },
      "source": [
        ""
      ],
      "execution_count": null,
      "outputs": []
    }
  ]
}
